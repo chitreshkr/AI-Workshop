{
  "nbformat": 4,
  "nbformat_minor": 0,
  "metadata": {
    "colab": {
      "name": "Day1_code2.ipynb",
      "provenance": [],
      "include_colab_link": true
    },
    "kernelspec": {
      "name": "python3",
      "display_name": "Python 3"
    },
    "accelerator": "GPU"
  },
  "cells": [
    {
      "cell_type": "markdown",
      "metadata": {
        "id": "view-in-github",
        "colab_type": "text"
      },
      "source": [
        "<a href=\"https://colab.research.google.com/github/chitreshkr/AI-Workshop/blob/master/Day1_code2.ipynb\" target=\"_parent\"><img src=\"https://colab.research.google.com/assets/colab-badge.svg\" alt=\"Open In Colab\"/></a>"
      ]
    },
    {
      "cell_type": "markdown",
      "metadata": {
        "id": "FZi1ADOtvVwf",
        "colab_type": "text"
      },
      "source": [
        "# Step 1\n",
        "\n",
        "\n",
        "1.   Define parameters - Network and hyper-parameters\n",
        "2.   Tf computation Graph\n",
        "3.   Multilayer perceptron\n",
        "4.   W,b dictionaries\n",
        "5.   Pred label\n",
        "6.   Cost and Optimizers\n",
        "7.   Init Session\n",
        "8.   Run the session and Model\n",
        "9.   Eval accuracy\n",
        "\n"
      ]
    },
    {
      "cell_type": "code",
      "metadata": {
        "id": "Nzt_H1jYvT_N",
        "colab_type": "code",
        "colab": {
          "base_uri": "https://localhost:8080/",
          "height": 62
        },
        "outputId": "dde2cbc4-812c-47b2-c8eb-48be4589bc71"
      },
      "source": [
        "#Step 1\n",
        "import tensorflow as tf"
      ],
      "execution_count": 2,
      "outputs": [
        {
          "output_type": "display_data",
          "data": {
            "text/html": [
              "<p style=\"color: red;\">\n",
              "The default version of TensorFlow in Colab will soon switch to TensorFlow 2.x.<br>\n",
              "We recommend you <a href=\"https://www.tensorflow.org/guide/migrate\" target=\"_blank\">upgrade</a> now \n",
              "or ensure your notebook will continue to use TensorFlow 1.x via the <code>%tensorflow_version 1.x</code> magic:\n",
              "<a href=\"https://colab.research.google.com/notebooks/tensorflow_version.ipynb\" target=\"_blank\">more info</a>.</p>\n"
            ],
            "text/plain": [
              "<IPython.core.display.HTML object>"
            ]
          },
          "metadata": {
            "tags": []
          }
        }
      ]
    },
    {
      "cell_type": "code",
      "metadata": {
        "id": "uGEKhrptwkMW",
        "colab_type": "code",
        "colab": {}
      },
      "source": [
        "from tensorflow.examples.tutorials.mnist import input_data\n"
      ],
      "execution_count": 0,
      "outputs": []
    },
    {
      "cell_type": "code",
      "metadata": {
        "id": "msW0edoXwn0h",
        "colab_type": "code",
        "colab": {}
      },
      "source": [
        "import warnings\n",
        "warnings.filterwarnings('ignore')"
      ],
      "execution_count": 0,
      "outputs": []
    },
    {
      "cell_type": "code",
      "metadata": {
        "id": "55L4AUl1wrH_",
        "colab_type": "code",
        "colab": {
          "base_uri": "https://localhost:8080/",
          "height": 524
        },
        "outputId": "ed63983e-33f3-4d19-ca68-cb7e37e37837"
      },
      "source": [
        "mnist = input_data.read_data_sets(\"MNIST_data\",one_hot=True)"
      ],
      "execution_count": 5,
      "outputs": [
        {
          "output_type": "stream",
          "text": [
            "WARNING:tensorflow:From <ipython-input-5-3d8a9d232fa5>:1: read_data_sets (from tensorflow.contrib.learn.python.learn.datasets.mnist) is deprecated and will be removed in a future version.\n",
            "Instructions for updating:\n",
            "Please use alternatives such as official/mnist/dataset.py from tensorflow/models.\n",
            "WARNING:tensorflow:From /usr/local/lib/python3.6/dist-packages/tensorflow_core/contrib/learn/python/learn/datasets/mnist.py:260: maybe_download (from tensorflow.contrib.learn.python.learn.datasets.base) is deprecated and will be removed in a future version.\n",
            "Instructions for updating:\n",
            "Please write your own downloading logic.\n",
            "WARNING:tensorflow:From /usr/local/lib/python3.6/dist-packages/tensorflow_core/contrib/learn/python/learn/datasets/base.py:252: _internal_retry.<locals>.wrap.<locals>.wrapped_fn (from tensorflow.contrib.learn.python.learn.datasets.base) is deprecated and will be removed in a future version.\n",
            "Instructions for updating:\n",
            "Please use urllib or similar directly.\n",
            "Successfully downloaded train-images-idx3-ubyte.gz 9912422 bytes.\n",
            "WARNING:tensorflow:From /usr/local/lib/python3.6/dist-packages/tensorflow_core/contrib/learn/python/learn/datasets/mnist.py:262: extract_images (from tensorflow.contrib.learn.python.learn.datasets.mnist) is deprecated and will be removed in a future version.\n",
            "Instructions for updating:\n",
            "Please use tf.data to implement this functionality.\n",
            "Extracting MNIST_data/train-images-idx3-ubyte.gz\n",
            "Successfully downloaded train-labels-idx1-ubyte.gz 28881 bytes.\n",
            "WARNING:tensorflow:From /usr/local/lib/python3.6/dist-packages/tensorflow_core/contrib/learn/python/learn/datasets/mnist.py:267: extract_labels (from tensorflow.contrib.learn.python.learn.datasets.mnist) is deprecated and will be removed in a future version.\n",
            "Instructions for updating:\n",
            "Please use tf.data to implement this functionality.\n",
            "Extracting MNIST_data/train-labels-idx1-ubyte.gz\n",
            "WARNING:tensorflow:From /usr/local/lib/python3.6/dist-packages/tensorflow_core/contrib/learn/python/learn/datasets/mnist.py:110: dense_to_one_hot (from tensorflow.contrib.learn.python.learn.datasets.mnist) is deprecated and will be removed in a future version.\n",
            "Instructions for updating:\n",
            "Please use tf.one_hot on tensors.\n",
            "Successfully downloaded t10k-images-idx3-ubyte.gz 1648877 bytes.\n",
            "Extracting MNIST_data/t10k-images-idx3-ubyte.gz\n",
            "Successfully downloaded t10k-labels-idx1-ubyte.gz 4542 bytes.\n",
            "Extracting MNIST_data/t10k-labels-idx1-ubyte.gz\n",
            "WARNING:tensorflow:From /usr/local/lib/python3.6/dist-packages/tensorflow_core/contrib/learn/python/learn/datasets/mnist.py:290: DataSet.__init__ (from tensorflow.contrib.learn.python.learn.datasets.mnist) is deprecated and will be removed in a future version.\n",
            "Instructions for updating:\n",
            "Please use alternatives such as official/mnist/dataset.py from tensorflow/models.\n"
          ],
          "name": "stdout"
        }
      ]
    },
    {
      "cell_type": "code",
      "metadata": {
        "id": "p0BvNmwBwtLZ",
        "colab_type": "code",
        "colab": {}
      },
      "source": [
        "#Hyperparameters\n",
        "learning_rate = 0.001\n",
        "training_epochs = 100\n",
        "batch_size = 128"
      ],
      "execution_count": 0,
      "outputs": []
    },
    {
      "cell_type": "code",
      "metadata": {
        "id": "54aAO10HxUrd",
        "colab_type": "code",
        "colab": {}
      },
      "source": [
        "#Network Parameters\n",
        "n_hidden_1 = 256\n",
        "n_hidden_2 = 256\n",
        "n_input = 784 \n",
        "n_classes = 10\n",
        "n_samples = mnist.train.num_examples"
      ],
      "execution_count": 0,
      "outputs": []
    },
    {
      "cell_type": "code",
      "metadata": {
        "id": "c5OuS68oxrvu",
        "colab_type": "code",
        "colab": {}
      },
      "source": [
        "#TF graph inputs / placeholders\n",
        "x = tf.placeholder('float',[None,n_input])\n",
        "y =  tf.placeholder('float',[None,n_classes])"
      ],
      "execution_count": 0,
      "outputs": []
    },
    {
      "cell_type": "code",
      "metadata": {
        "id": "ilZwr59Hy7ml",
        "colab_type": "code",
        "colab": {}
      },
      "source": [
        "#weights and biases\n",
        "weights = {\n",
        "    'h1' : tf.Variable(tf.random_normal([n_input,n_hidden_1])),\n",
        "    'h2' : tf.Variable(tf.random_normal([n_hidden_1,n_hidden_2])),\n",
        "    'out' : tf.Variable(tf.random_normal([n_hidden_2,n_classes]))\n",
        "}\n",
        "biases ={\n",
        "    'b1' : tf.Variable(tf.random_normal([n_hidden_1])),\n",
        "    'b2' : tf.Variable(tf.random_normal([n_hidden_2])),\n",
        "    'out' : tf.Variable(tf.random_normal([n_classes]))\n",
        "}"
      ],
      "execution_count": 0,
      "outputs": []
    },
    {
      "cell_type": "code",
      "metadata": {
        "id": "PKWGTYJux9dN",
        "colab_type": "code",
        "colab": {}
      },
      "source": [
        "#MLP \n",
        "def mlp(x,weights,biases):\n",
        "  layer_1 = tf.add(tf.matmul(x,weights['h1']),biases['b1'])\n",
        "  layer_1 = tf.nn.relu(layer_1)\n",
        "  layer_2 = tf.add(tf.matmul(layer_1,weights['h2']),biases['b2'])\n",
        "  layer_2 = tf.nn.relu(layer_2)\n",
        "\n",
        "  # final output\n",
        "\n",
        "  out_layer = tf.add(tf.matmul(layer_2,weights['out']),biases['out'])\n",
        "  return out_layer\n",
        "\n",
        "\n"
      ],
      "execution_count": 0,
      "outputs": []
    },
    {
      "cell_type": "code",
      "metadata": {
        "id": "3jK5kTXzznS_",
        "colab_type": "code",
        "colab": {}
      },
      "source": [
        "#predicted label \n",
        "pred = mlp(x,weights,biases)"
      ],
      "execution_count": 0,
      "outputs": []
    },
    {
      "cell_type": "code",
      "metadata": {
        "id": "Dm-inlJ10zh_",
        "colab_type": "code",
        "colab": {}
      },
      "source": [
        "#costs/ optimizers\n",
        "cost = tf.reduce_mean(tf.nn.softmax_cross_entropy_with_logits_v2(labels=y,logits=pred))\n",
        "optimizers = tf.train.AdamOptimizer(learning_rate=learning_rate).minimize(cost)"
      ],
      "execution_count": 0,
      "outputs": []
    },
    {
      "cell_type": "code",
      "metadata": {
        "id": "oy6ursVM1QLg",
        "colab_type": "code",
        "colab": {}
      },
      "source": [
        "#init\n",
        "init = tf.global_variables_initializer()"
      ],
      "execution_count": 0,
      "outputs": []
    },
    {
      "cell_type": "code",
      "metadata": {
        "id": "_NZcu2xv1VTV",
        "colab_type": "code",
        "colab": {}
      },
      "source": [
        "sess = tf.InteractiveSession()\n",
        "sess.run(init)\n",
        "\n",
        "for epoch in range(training_epochs):\n",
        "  avg_cost = 0.0\n",
        "  total_batch = int(n_samples/batch_size)\n",
        "\n",
        "  #loop over all batches\n",
        "  for i in range(total_batch):\n",
        "    #grab the next batch\n",
        "    batch_x , batch_y = mnist.train.next_batch(batch_size)\n",
        "\n",
        "    #feed in the dict to minimize and optimize cost losses \n",
        "    _,c = sess.run([optimizers,cost],feed_dict={x:batch_x,y:batch_y})\n",
        "\n",
        "    #compute avg loss \n",
        "    avg_cost += c/total_batch\n",
        "#    print(\"Epoch : {} cost ={ : 4f}\".format(epoch+1,avg_cost))\n",
        "\n",
        "print(\"Epoch : {} cost {: .4f}\".format(epoch+1,avg_cost))\n",
        "print(\"Model has completed {} Epochs of training\".format (training_epochs))"
      ],
      "execution_count": 0,
      "outputs": []
    },
    {
      "cell_type": "code",
      "metadata": {
        "id": "0dUc1D_b31T7",
        "colab_type": "code",
        "colab": {}
      },
      "source": [
        "#model testing and evaluation\n",
        "correct_predictions = tf.equal(tf.argmax(pred,1),tf.argmax(y,1))"
      ],
      "execution_count": 0,
      "outputs": []
    },
    {
      "cell_type": "code",
      "metadata": {
        "id": "tvfie9HF4Js7",
        "colab_type": "code",
        "colab": {
          "base_uri": "https://localhost:8080/",
          "height": 34
        },
        "outputId": "7244b55f-d006-4ab5-d58a-925d4be3663e"
      },
      "source": [
        "print(correct_predictions[0])"
      ],
      "execution_count": 20,
      "outputs": [
        {
          "output_type": "stream",
          "text": [
            "Tensor(\"strided_slice_1:0\", shape=(), dtype=bool)\n"
          ],
          "name": "stdout"
        }
      ]
    },
    {
      "cell_type": "code",
      "metadata": {
        "id": "lCrYqMpU4MNc",
        "colab_type": "code",
        "colab": {}
      },
      "source": [
        "correct_predictions = tf.cast(correct_predictions,'float')"
      ],
      "execution_count": 0,
      "outputs": []
    },
    {
      "cell_type": "code",
      "metadata": {
        "id": "QXA-_lkk4RkD",
        "colab_type": "code",
        "colab": {
          "base_uri": "https://localhost:8080/",
          "height": 34
        },
        "outputId": "800e5368-eb7f-47fc-bb71-e8a2b7f3c67a"
      },
      "source": [
        "accuracy = tf.reduce_mean(correct_predictions)\n",
        "print(\"Accuracy:\", accuracy.eval({x:mnist.test.images,\n",
        "                                  y:mnist.test.labels}))"
      ],
      "execution_count": 22,
      "outputs": [
        {
          "output_type": "stream",
          "text": [
            "Accuracy: 0.9654\n"
          ],
          "name": "stdout"
        }
      ]
    }
  ]
}