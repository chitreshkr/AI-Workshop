{
  "nbformat": 4,
  "nbformat_minor": 0,
  "metadata": {
    "kernelspec": {
      "display_name": "Python 3",
      "language": "python",
      "name": "python3"
    },
    "language_info": {
      "codemirror_mode": {
        "name": "ipython",
        "version": 3
      },
      "file_extension": ".py",
      "mimetype": "text/x-python",
      "name": "python",
      "nbconvert_exporter": "python",
      "pygments_lexer": "ipython3",
      "version": "3.6.9"
    },
    "colab": {
      "name": "00_String_with_Python.ipynb",
      "provenance": [],
      "collapsed_sections": [],
      "toc_visible": true,
      "include_colab_link": true
    }
  },
  "cells": [
    {
      "cell_type": "markdown",
      "metadata": {
        "id": "view-in-github",
        "colab_type": "text"
      },
      "source": [
        "<a href=\"https://colab.research.google.com/github/chitreshkr/AI-Workshop/blob/master/00_String_with_Python.ipynb\" target=\"_parent\"><img src=\"https://colab.research.google.com/assets/colab-badge.svg\" alt=\"Open In Colab\"/></a>"
      ]
    },
    {
      "cell_type": "markdown",
      "metadata": {
        "id": "L6BX9GR74wGC",
        "colab_type": "text"
      },
      "source": [
        "## What are we going to cover\n",
        "\n",
        "<ul>\n",
        "    <li>Text Processing with standard Python libraries</li>\n",
        "    <li>Regular Expressions</li>\n",
        "    <li>Basics of NLP - Text Processing with Spacy library</li>\n",
        "    <li>Exploratory Data Analysis</li>\n",
        "    <li>Sentence Similarity via Vectorization</li>\n",
        "    <li>Text Generation</li>\n",
        "</ul>"
      ]
    },
    {
      "cell_type": "code",
      "metadata": {
        "id": "2ShyvnON4wGE",
        "colab_type": "code",
        "colab": {}
      },
      "source": [
        "# If you are using google colab, upload the text file using the left panel -> Files tab and then execute this cell\n",
        "with open('cv000_29590.txt') as f:\n",
        "    text = f.read()"
      ],
      "execution_count": 0,
      "outputs": []
    },
    {
      "cell_type": "code",
      "metadata": {
        "id": "VOFh0vFAArfE",
        "colab_type": "code",
        "colab": {
          "base_uri": "https://localhost:8080/",
          "height": 34
        },
        "outputId": "4553fd10-b56d-43ec-e293-055790fb2dbf"
      },
      "source": [
        "type(text)"
      ],
      "execution_count": 3,
      "outputs": [
        {
          "output_type": "execute_result",
          "data": {
            "text/plain": [
              "str"
            ]
          },
          "metadata": {
            "tags": []
          },
          "execution_count": 3
        }
      ]
    },
    {
      "cell_type": "code",
      "metadata": {
        "id": "vQ4w0iwpBBxi",
        "colab_type": "code",
        "colab": {}
      },
      "source": [
        "lines = text.split('\\n')"
      ],
      "execution_count": 0,
      "outputs": []
    },
    {
      "cell_type": "code",
      "metadata": {
        "id": "AmHpxmXfBKsj",
        "colab_type": "code",
        "colab": {}
      },
      "source": [
        "sentence = lines[0]"
      ],
      "execution_count": 0,
      "outputs": []
    },
    {
      "cell_type": "code",
      "metadata": {
        "id": "lKZuPagHBPBP",
        "colab_type": "code",
        "colab": {
          "base_uri": "https://localhost:8080/",
          "height": 54
        },
        "outputId": "79feaf56-1bfb-43ef-efe7-371d6c34fd49"
      },
      "source": [
        "sentence"
      ],
      "execution_count": 6,
      "outputs": [
        {
          "output_type": "execute_result",
          "data": {
            "text/plain": [
              "\"films adapted from comic books have had plenty of success , whether they're about superheroes ( batman , superman , spawn ) , or geared toward kids ( casper ) or the arthouse crowd ( ghost world ) , but there's never really been a comic book like from hell before . \""
            ]
          },
          "metadata": {
            "tags": []
          },
          "execution_count": 6
        }
      ]
    },
    {
      "cell_type": "code",
      "metadata": {
        "id": "Wn6tg3oZ4wGJ",
        "colab_type": "code",
        "colab": {
          "base_uri": "https://localhost:8080/",
          "height": 907
        },
        "outputId": "846d9270-91c4-4c23-8273-bcd86834e7e3"
      },
      "source": [
        "sentence.split(\" \")"
      ],
      "execution_count": 7,
      "outputs": [
        {
          "output_type": "execute_result",
          "data": {
            "text/plain": [
              "['films',\n",
              " 'adapted',\n",
              " 'from',\n",
              " 'comic',\n",
              " 'books',\n",
              " 'have',\n",
              " 'had',\n",
              " 'plenty',\n",
              " 'of',\n",
              " 'success',\n",
              " ',',\n",
              " 'whether',\n",
              " \"they're\",\n",
              " 'about',\n",
              " 'superheroes',\n",
              " '(',\n",
              " 'batman',\n",
              " ',',\n",
              " 'superman',\n",
              " ',',\n",
              " 'spawn',\n",
              " ')',\n",
              " ',',\n",
              " 'or',\n",
              " 'geared',\n",
              " 'toward',\n",
              " 'kids',\n",
              " '(',\n",
              " 'casper',\n",
              " ')',\n",
              " 'or',\n",
              " 'the',\n",
              " 'arthouse',\n",
              " 'crowd',\n",
              " '(',\n",
              " 'ghost',\n",
              " 'world',\n",
              " ')',\n",
              " ',',\n",
              " 'but',\n",
              " \"there's\",\n",
              " 'never',\n",
              " 'really',\n",
              " 'been',\n",
              " 'a',\n",
              " 'comic',\n",
              " 'book',\n",
              " 'like',\n",
              " 'from',\n",
              " 'hell',\n",
              " 'before',\n",
              " '.',\n",
              " '']"
            ]
          },
          "metadata": {
            "tags": []
          },
          "execution_count": 7
        }
      ]
    },
    {
      "cell_type": "code",
      "metadata": {
        "id": "Eko3GRPWBoqb",
        "colab_type": "code",
        "colab": {
          "base_uri": "https://localhost:8080/",
          "height": 34
        },
        "outputId": "5cf4a360-b7eb-4ae0-96e6-68c42bb9a2ba"
      },
      "source": [
        "\"Batman\"[0].isupper()"
      ],
      "execution_count": 9,
      "outputs": [
        {
          "output_type": "execute_result",
          "data": {
            "text/plain": [
              "True"
            ]
          },
          "metadata": {
            "tags": []
          },
          "execution_count": 9
        }
      ]
    },
    {
      "cell_type": "code",
      "metadata": {
        "id": "tEvy36lwCCzn",
        "colab_type": "code",
        "colab": {
          "base_uri": "https://localhost:8080/",
          "height": 34
        },
        "outputId": "52c9ca0e-c891-41c3-c7f1-5e3ec4cd8be4"
      },
      "source": [
        "\"Batm@n\".isalnum()"
      ],
      "execution_count": 10,
      "outputs": [
        {
          "output_type": "execute_result",
          "data": {
            "text/plain": [
              "False"
            ]
          },
          "metadata": {
            "tags": []
          },
          "execution_count": 10
        }
      ]
    },
    {
      "cell_type": "code",
      "metadata": {
        "id": "pUXvP6MnCZl7",
        "colab_type": "code",
        "colab": {
          "base_uri": "https://localhost:8080/",
          "height": 34
        },
        "outputId": "5dc3ba7e-3426-4f67-dda0-cec8c22b35fe"
      },
      "source": [
        "\"12345\".isnumeric()"
      ],
      "execution_count": 11,
      "outputs": [
        {
          "output_type": "execute_result",
          "data": {
            "text/plain": [
              "True"
            ]
          },
          "metadata": {
            "tags": []
          },
          "execution_count": 11
        }
      ]
    },
    {
      "cell_type": "code",
      "metadata": {
        "id": "zGj9BIb6CywT",
        "colab_type": "code",
        "colab": {
          "base_uri": "https://localhost:8080/",
          "height": 34
        },
        "outputId": "a8fd0908-d998-422f-b157-cf0150693d32"
      },
      "source": [
        "\"superman\".capitalize()"
      ],
      "execution_count": 12,
      "outputs": [
        {
          "output_type": "execute_result",
          "data": {
            "text/plain": [
              "'Superman'"
            ]
          },
          "metadata": {
            "tags": []
          },
          "execution_count": 12
        }
      ]
    },
    {
      "cell_type": "code",
      "metadata": {
        "id": "QwjXfbDfC83P",
        "colab_type": "code",
        "colab": {
          "base_uri": "https://localhost:8080/",
          "height": 34
        },
        "outputId": "44562419-c4cf-489c-ed70-f252576adecd"
      },
      "source": [
        "\".\".join([\"first\",\"second\",\"third\"])"
      ],
      "execution_count": 13,
      "outputs": [
        {
          "output_type": "execute_result",
          "data": {
            "text/plain": [
              "'first.second.third'"
            ]
          },
          "metadata": {
            "tags": []
          },
          "execution_count": 13
        }
      ]
    },
    {
      "cell_type": "code",
      "metadata": {
        "id": "BF4iR4pMC9hS",
        "colab_type": "code",
        "colab": {
          "base_uri": "https://localhost:8080/",
          "height": 34
        },
        "outputId": "0c04f739-70ba-44fd-ff4c-b62a333c0ffa"
      },
      "source": [
        "words = []\n",
        "for s in lines:\n",
        "  words.extend(s.split(\" \"))\n",
        "len(words)\n",
        "len(set(words))"
      ],
      "execution_count": 14,
      "outputs": [
        {
          "output_type": "execute_result",
          "data": {
            "text/plain": [
              "427"
            ]
          },
          "metadata": {
            "tags": []
          },
          "execution_count": 14
        }
      ]
    },
    {
      "cell_type": "code",
      "metadata": {
        "id": "DBbgCBPFEHur",
        "colab_type": "code",
        "colab": {}
      },
      "source": [
        "count = {}\n",
        "for word in words:\n",
        "  if word in count:\n",
        "    count[word]=+1\n",
        "  else:\n",
        "    count[word]=1"
      ],
      "execution_count": 0,
      "outputs": []
    },
    {
      "cell_type": "code",
      "metadata": {
        "id": "eZDgXNvjEpwX",
        "colab_type": "code",
        "colab": {
          "base_uri": "https://localhost:8080/",
          "height": 1000
        },
        "outputId": "1d94babc-e514-4ec3-a2f0-f2ff13084a65"
      },
      "source": [
        "count"
      ],
      "execution_count": 18,
      "outputs": [
        {
          "output_type": "execute_result",
          "data": {
            "text/plain": [
              "{'': 1,\n",
              " '\"': 1,\n",
              " \"'80s\": 1,\n",
              " '(': 1,\n",
              " ')': 1,\n",
              " ',': 1,\n",
              " '-': 1,\n",
              " '.': 1,\n",
              " '00': 1,\n",
              " '102': 1,\n",
              " '12-part': 1,\n",
              " '1888': 1,\n",
              " '2': 1,\n",
              " '30': 1,\n",
              " '500': 1,\n",
              " ':': 1,\n",
              " '?': 1,\n",
              " 'a': 1,\n",
              " 'abberline': 1,\n",
              " 'ably': 1,\n",
              " 'about': 1,\n",
              " 'absinthe': 1,\n",
              " 'accent': 1,\n",
              " 'acting': 1,\n",
              " 'acts': 1,\n",
              " 'actually': 1,\n",
              " 'adapted': 1,\n",
              " 'after': 1,\n",
              " 'alan': 1,\n",
              " 'albert': 1,\n",
              " 'all': 1,\n",
              " 'allen': 1,\n",
              " 'almost': 1,\n",
              " 'amounts': 1,\n",
              " 'an': 1,\n",
              " 'and': 1,\n",
              " 'another': 1,\n",
              " 'anyone': 1,\n",
              " 'anything': 1,\n",
              " 'apes': 1,\n",
              " 'appearance': 1,\n",
              " 'are': 1,\n",
              " 'arriving': 1,\n",
              " 'arthouse': 1,\n",
              " 'as': 1,\n",
              " 'at': 1,\n",
              " 'attempt': 1,\n",
              " 'back': 1,\n",
              " 'bad': 1,\n",
              " 'batman': 1,\n",
              " 'be': 1,\n",
              " 'because': 1,\n",
              " 'been': 1,\n",
              " 'before': 1,\n",
              " 'befriends': 1,\n",
              " 'behind': 1,\n",
              " 'better': 1,\n",
              " 'big': 1,\n",
              " 'black-and-white': 1,\n",
              " 'blame': 1,\n",
              " 'bleak': 1,\n",
              " 'blindly': 1,\n",
              " 'block': 1,\n",
              " 'blow': 1,\n",
              " 'book': 1,\n",
              " 'books': 1,\n",
              " 'both': 1,\n",
              " 'bother': 1,\n",
              " 'briefed': 1,\n",
              " 'british': 1,\n",
              " 'brothers': 1,\n",
              " 'brought': 1,\n",
              " 'burton': 1,\n",
              " 'but': 1,\n",
              " 'by': 1,\n",
              " 'called': 1,\n",
              " 'calls': 1,\n",
              " 'campbell': 1,\n",
              " 'can': 1,\n",
              " \"can't\": 1,\n",
              " 'capable': 1,\n",
              " 'captures': 1,\n",
              " 'car/who': 1,\n",
              " 'carrot': 1,\n",
              " 'carving': 1,\n",
              " 'case': 1,\n",
              " 'casper': 1,\n",
              " 'casting': 1,\n",
              " 'certainly': 1,\n",
              " \"childs'\": 1,\n",
              " 'chooses': 1,\n",
              " 'cinematographer': 1,\n",
              " 'cloaking': 1,\n",
              " 'color': 1,\n",
              " 'coltrane': 1,\n",
              " 'comic': 1,\n",
              " 'comments': 1,\n",
              " 'committing': 1,\n",
              " 'comparison': 1,\n",
              " 'completely': 1,\n",
              " 'consist': 1,\n",
              " 'content': 1,\n",
              " 'copious': 1,\n",
              " 'copper': 1,\n",
              " 'could': 1,\n",
              " 'course': 1,\n",
              " 'crack': 1,\n",
              " 'crazy': 1,\n",
              " 'created': 1,\n",
              " 'creepy': 1,\n",
              " 'crime': 1,\n",
              " 'crimes': 1,\n",
              " 'cringed': 1,\n",
              " 'crowd': 1,\n",
              " 'dalmatians': 1,\n",
              " 'dark': 1,\n",
              " 'days': 1,\n",
              " 'deftly': 1,\n",
              " 'deming': 1,\n",
              " 'depp': 1,\n",
              " 'design': 1,\n",
              " 'did': 1,\n",
              " 'direct': 1,\n",
              " 'directors': 1,\n",
              " 'dismiss': 1,\n",
              " 'do': 1,\n",
              " \"don't\": 1,\n",
              " 'dreams': 1,\n",
              " 'dreamy': 1,\n",
              " 'dreariness': 1,\n",
              " 'drug': 1,\n",
              " 'east': 1,\n",
              " 'eddie': 1,\n",
              " 'electric': 1,\n",
              " 'end': 1,\n",
              " 'ending': 1,\n",
              " 'englishman': 1,\n",
              " 'enough': 1,\n",
              " 'even': 1,\n",
              " 'features': 1,\n",
              " 'film': 1,\n",
              " 'films': 1,\n",
              " 'filthy': 1,\n",
              " 'finalized': 1,\n",
              " 'find': 1,\n",
              " 'finger': 1,\n",
              " 'finished': 1,\n",
              " 'first': 1,\n",
              " 'flashbacks': 1,\n",
              " 'flashy': 1,\n",
              " 'footnotes': 1,\n",
              " 'for': 1,\n",
              " 'frederick': 1,\n",
              " 'from': 1,\n",
              " 'funny': 1,\n",
              " 'geared': 1,\n",
              " 'geniuses': 1,\n",
              " 'get': 1,\n",
              " 'getting': 1,\n",
              " 'ghastly': 1,\n",
              " 'ghetto': 1,\n",
              " 'ghost': 1,\n",
              " 'go': 1,\n",
              " 'godley': 1,\n",
              " 'good': 1,\n",
              " \"gould's\": 1,\n",
              " 'graham': 1,\n",
              " 'graphic': 1,\n",
              " 'great': 1,\n",
              " 'gruesome': 1,\n",
              " 'guttenberg': 1,\n",
              " 'had': 1,\n",
              " 'half': 1,\n",
              " 'handling': 1,\n",
              " 'has': 1,\n",
              " 'have': 1,\n",
              " 'hayes': 1,\n",
              " 'he': 1,\n",
              " 'heather': 1,\n",
              " 'hell': 1,\n",
              " \"hell's\": 1,\n",
              " 'helped': 1,\n",
              " 'her': 1,\n",
              " 'here': 1,\n",
              " 'hidden': 1,\n",
              " 'him': 1,\n",
              " 'holds': 1,\n",
              " 'hollow': 1,\n",
              " 'holm': 1,\n",
              " 'horribly': 1,\n",
              " 'how': 1,\n",
              " 'however': 1,\n",
              " 'hughes': 1,\n",
              " 'i': 1,\n",
              " 'ians': 1,\n",
              " 'identity': 1,\n",
              " 'if': 1,\n",
              " 'ii': 1,\n",
              " 'imagining': 1,\n",
              " 'in': 1,\n",
              " 'includes': 1,\n",
              " 'indians': 1,\n",
              " 'inspector': 1,\n",
              " 'interesting': 1,\n",
              " 'into': 1,\n",
              " 'investigate': 1,\n",
              " 'irish': 1,\n",
              " 'is': 1,\n",
              " \"isn't\": 1,\n",
              " 'it': 1,\n",
              " \"it'll\": 1,\n",
              " \"it's\": 1,\n",
              " 'its': 1,\n",
              " 'jack': 1,\n",
              " 'jackson': 1,\n",
              " 'jews': 1,\n",
              " 'job': 1,\n",
              " 'joe': 1,\n",
              " 'johnny': 1,\n",
              " 'keeping': 1,\n",
              " 'kelly': 1,\n",
              " 'kids': 1,\n",
              " 'killer': 1,\n",
              " 'killing': 1,\n",
              " 'language': 1,\n",
              " 'les': 1,\n",
              " 'level': 1,\n",
              " 'like': 1,\n",
              " 'limit': 1,\n",
              " 'little': 1,\n",
              " 'locals': 1,\n",
              " 'log': 1,\n",
              " 'london': 1,\n",
              " \"london's\": 1,\n",
              " 'long': 1,\n",
              " 'look': 1,\n",
              " 'looks': 1,\n",
              " 'love': 1,\n",
              " 'ludicrous': 1,\n",
              " 'mad': 1,\n",
              " 'made': 1,\n",
              " 'make': 1,\n",
              " 'manson': 1,\n",
              " 'marilyn': 1,\n",
              " 'martin': 1,\n",
              " 'mary': 1,\n",
              " 'me': 1,\n",
              " 'medium': 1,\n",
              " 'menace': 1,\n",
              " 'michael': 1,\n",
              " 'mid': 1,\n",
              " 'might': 1,\n",
              " 'mis': 1,\n",
              " 'moore': 1,\n",
              " 'more': 1,\n",
              " 'mouth': 1,\n",
              " 'much': 1,\n",
              " 'music': 1,\n",
              " 'mysterious': 1,\n",
              " 'named': 1,\n",
              " 'nearly': 1,\n",
              " 'needs': 1,\n",
              " 'nervous': 1,\n",
              " 'never': 1,\n",
              " 'new': 1,\n",
              " 'no': 1,\n",
              " 'not': 1,\n",
              " 'nothing': 1,\n",
              " 'novel': 1,\n",
              " 'now': 1,\n",
              " 'odd': 1,\n",
              " 'of': 1,\n",
              " 'on': 1,\n",
              " 'one': 1,\n",
              " 'onto': 1,\n",
              " 'opened': 1,\n",
              " 'opium': 1,\n",
              " 'or': 1,\n",
              " 'original': 1,\n",
              " 'oscar': 1,\n",
              " 'other': 1,\n",
              " 'over': 1,\n",
              " 'pages': 1,\n",
              " 'pales': 1,\n",
              " 'particulars': 1,\n",
              " 'past': 1,\n",
              " 'peaks': 1,\n",
              " 'performance': 1,\n",
              " 'peter': 1,\n",
              " 'place': 1,\n",
              " 'planet': 1,\n",
              " 'plenty': 1,\n",
              " 'point': 1,\n",
              " 'police': 1,\n",
              " 'prague': 1,\n",
              " 'precision': 1,\n",
              " 'print': 1,\n",
              " 'proceeds': 1,\n",
              " 'production': 1,\n",
              " 'profession': 1,\n",
              " 'prophetic': 1,\n",
              " 'psychopath': 1,\n",
              " 'quell': 1,\n",
              " 'question': 1,\n",
              " 'r': 1,\n",
              " 'rables': 1,\n",
              " 'rafael': 1,\n",
              " 'really': 1,\n",
              " 'reasons': 1,\n",
              " 'remind': 1,\n",
              " 'researched': 1,\n",
              " 'richardson': 1,\n",
              " 'riddle': 1,\n",
              " 'ripper': 1,\n",
              " 'robbie': 1,\n",
              " 'roles': 1,\n",
              " 'saw': 1,\n",
              " 'say': 1,\n",
              " 'saying': 1,\n",
              " 'scenes': 1,\n",
              " 'screenwriters': 1,\n",
              " 'secret': 1,\n",
              " 'see': 1,\n",
              " 'seems': 1,\n",
              " 'sense': 1,\n",
              " 'series': 1,\n",
              " 'set': 1,\n",
              " 'sexuality': 1,\n",
              " 'shakespeare': 1,\n",
              " 'she': 1,\n",
              " 'simpsons': 1,\n",
              " 'slay': 1,\n",
              " 'sleepy': 1,\n",
              " 'so': 1,\n",
              " 'society': 1,\n",
              " 'solid': 1,\n",
              " 'song': 1,\n",
              " 'sooty': 1,\n",
              " 'source': 1,\n",
              " 'spawn': 1,\n",
              " 'star': 1,\n",
              " 'starters': 1,\n",
              " 'starting': 1,\n",
              " 'steve': 1,\n",
              " 'stiff': 1,\n",
              " 'stomach': 1,\n",
              " 'stonecutters': 1,\n",
              " 'street': 1,\n",
              " 'strong': 1,\n",
              " 'stumbling': 1,\n",
              " 'subject': 1,\n",
              " 'success': 1,\n",
              " 'such': 1,\n",
              " 'superheroes': 1,\n",
              " 'superman': 1,\n",
              " 'supporting': 1,\n",
              " 'surgeon': 1,\n",
              " 'surgical': 1,\n",
              " 'surprise': 1,\n",
              " 'surprising': 1,\n",
              " 'surroundings': 1,\n",
              " 'terry': 1,\n",
              " 'than': 1,\n",
              " 'that': 1,\n",
              " \"that's\": 1,\n",
              " 'the': 1,\n",
              " 'their': 1,\n",
              " 'theory': 1,\n",
              " \"there's\": 1,\n",
              " 'they': 1,\n",
              " \"they're\": 1,\n",
              " 'thing': 1,\n",
              " 'think': 1,\n",
              " 'this': 1,\n",
              " 'thoroughly': 1,\n",
              " 'though': 1,\n",
              " 'through': 1,\n",
              " 'tim': 1,\n",
              " 'time': 1,\n",
              " 'times': 1,\n",
              " 'to': 1,\n",
              " 'top': 1,\n",
              " 'toward': 1,\n",
              " 'tries': 1,\n",
              " 'turning': 1,\n",
              " 'turns': 1,\n",
              " 'twin': 1,\n",
              " 'typically': 1,\n",
              " 'unfortunate': 1,\n",
              " 'unfortunates': 1,\n",
              " 'unique': 1,\n",
              " 'unsuccessfully': 1,\n",
              " 'until': 1,\n",
              " 'up': 1,\n",
              " 'upon': 1,\n",
              " 'vertical': 1,\n",
              " 'very': 1,\n",
              " 'victorian-era': 1,\n",
              " 'viewers': 1,\n",
              " 'violence': 1,\n",
              " 'violence/gore': 1,\n",
              " 'violent': 1,\n",
              " 'was': 1,\n",
              " \"wasn't\": 1,\n",
              " 'watch': 1,\n",
              " 'watchmen': 1,\n",
              " 'well': 1,\n",
              " 'when': 1,\n",
              " 'where': 1,\n",
              " 'whether': 1,\n",
              " 'whistling': 1,\n",
              " 'whitechapel': 1,\n",
              " 'who': 1,\n",
              " 'whole': 1,\n",
              " 'whores': 1,\n",
              " 'widower': 1,\n",
              " 'will': 1,\n",
              " 'winner': 1,\n",
              " 'with': 1,\n",
              " \"won't\": 1,\n",
              " 'word': 1,\n",
              " 'words': 1,\n",
              " 'world': 1,\n",
              " 'worry': 1,\n",
              " 'would': 1,\n",
              " 'yglesias': 1,\n",
              " 'you': 1}"
            ]
          },
          "metadata": {
            "tags": []
          },
          "execution_count": 18
        }
      ]
    },
    {
      "cell_type": "code",
      "metadata": {
        "id": "9CD7odYC4wGl",
        "colab_type": "code",
        "outputId": "85b91a03-fee3-4aa1-b66c-30368008662c",
        "colab": {
          "base_uri": "https://localhost:8080/",
          "height": 84
        }
      },
      "source": [
        "sent = \"This is the first sentence. This is another sentence. This is the third sentence. This is the last sentence\"\n",
        "sent.split(\". \")"
      ],
      "execution_count": 15,
      "outputs": [
        {
          "output_type": "execute_result",
          "data": {
            "text/plain": [
              "['This is the first sentence',\n",
              " 'This is another sentence',\n",
              " 'This is the third sentence',\n",
              " 'This is the last sentence']"
            ]
          },
          "metadata": {
            "tags": []
          },
          "execution_count": 15
        }
      ]
    },
    {
      "cell_type": "markdown",
      "metadata": {
        "id": "V0aban3h4wGo",
        "colab_type": "text"
      },
      "source": [
        "## Can we do better? Regular Expressions to the Rescue"
      ]
    },
    {
      "cell_type": "code",
      "metadata": {
        "id": "w2YJc2-v4wGo",
        "colab_type": "code",
        "colab": {}
      },
      "source": [
        "import re"
      ],
      "execution_count": 0,
      "outputs": []
    },
    {
      "cell_type": "markdown",
      "metadata": {
        "id": "1wmR_3aP4wGq",
        "colab_type": "text"
      },
      "source": [
        "### This module provides regular expression matching operations.\n",
        "\n",
        "Below is a list of expressions and what they match to. \n",
        "\n",
        "| Expression | Matches With                   |\n",
        "| ---------- | -----------------------------  |\n",
        "| `abc...`   | lowercase letter               |\n",
        "| `123…`     | Digits                         |\n",
        "| `\\d`       | Any Digit                      |\n",
        "| `'\\D'`     | Any Non-digit character        |\n",
        "| `.`        | Any Character                  |\n",
        "| `\\.`       | Period                         |\n",
        "| `[abc]`    | Only a, b, or c                |\n",
        "| `\\.`       | Period                         |\n",
        "| `[abc]`    | Only a, b, or c                |\n",
        "| `[^abc]`   | Not a, b, nor c                |\n",
        "| `[a-z]`    | Characters a to z              |\n",
        "| `[0-9]`    | Numbers 0 to 9                 |\n",
        "| `\\w`       | Any Alphanumeric character     |\n",
        "| `\\W`       | Any Non-alphanumeric character |\n",
        "| `{m}`      | m Repetitions                  |\n",
        "| `{m,n}`    | m to n Repetitions             |\n",
        "| `\\*`       | Zero or more repetitions       |\n",
        "| `\\+`       | One or more repetitions        |\n",
        "| `?`        | Optional character             |\n",
        "| `\\s`       | Any Whitespace                 |\n",
        "| `\\S`       | Any Non-whitespace character   |\n",
        "| `^…$`      | Starts and ends                |\n",
        "| `(…)`      | Capture Group                  |\n"
      ]
    },
    {
      "cell_type": "code",
      "metadata": {
        "id": "JDy6TAXlJhzJ",
        "colab_type": "code",
        "colab": {
          "base_uri": "https://localhost:8080/",
          "height": 722
        },
        "outputId": "bcb533d7-bef6-45b5-ac15-e6b4a145866a"
      },
      "source": [
        "re.findall('\\w+',sentence)"
      ],
      "execution_count": 20,
      "outputs": [
        {
          "output_type": "execute_result",
          "data": {
            "text/plain": [
              "['films',\n",
              " 'adapted',\n",
              " 'from',\n",
              " 'comic',\n",
              " 'books',\n",
              " 'have',\n",
              " 'had',\n",
              " 'plenty',\n",
              " 'of',\n",
              " 'success',\n",
              " 'whether',\n",
              " 'they',\n",
              " 're',\n",
              " 'about',\n",
              " 'superheroes',\n",
              " 'batman',\n",
              " 'superman',\n",
              " 'spawn',\n",
              " 'or',\n",
              " 'geared',\n",
              " 'toward',\n",
              " 'kids',\n",
              " 'casper',\n",
              " 'or',\n",
              " 'the',\n",
              " 'arthouse',\n",
              " 'crowd',\n",
              " 'ghost',\n",
              " 'world',\n",
              " 'but',\n",
              " 'there',\n",
              " 's',\n",
              " 'never',\n",
              " 'really',\n",
              " 'been',\n",
              " 'a',\n",
              " 'comic',\n",
              " 'book',\n",
              " 'like',\n",
              " 'from',\n",
              " 'hell',\n",
              " 'before']"
            ]
          },
          "metadata": {
            "tags": []
          },
          "execution_count": 20
        }
      ]
    },
    {
      "cell_type": "code",
      "metadata": {
        "id": "Fr4yQT9AJuAQ",
        "colab_type": "code",
        "colab": {
          "base_uri": "https://localhost:8080/",
          "height": 84
        },
        "outputId": "878966f3-60d5-41d4-a8de-021cae7bab3b"
      },
      "source": [
        "re.split('[?.!]',sent)"
      ],
      "execution_count": 21,
      "outputs": [
        {
          "output_type": "execute_result",
          "data": {
            "text/plain": [
              "['This is the first sentence',\n",
              " ' This is another sentence',\n",
              " ' This is the third sentence',\n",
              " ' This is the last sentence']"
            ]
          },
          "metadata": {
            "tags": []
          },
          "execution_count": 21
        }
      ]
    },
    {
      "cell_type": "code",
      "metadata": {
        "id": "iRYbLzTt4wGv",
        "colab_type": "code",
        "outputId": "2fc6ab61-c8ce-44fc-c920-4698b08cdb2a",
        "colab": {
          "base_uri": "https://localhost:8080/",
          "height": 34
        }
      },
      "source": [
        "sent = \"My phone number is +1-972-1234567. Indian number is +91-987654321\"\n",
        "phone = re.findall(\"\\+[0-9\\-]*\",sent)\n",
        "phone"
      ],
      "execution_count": 23,
      "outputs": [
        {
          "output_type": "execute_result",
          "data": {
            "text/plain": [
              "['+1-972-1234567', '+91-987654321']"
            ]
          },
          "metadata": {
            "tags": []
          },
          "execution_count": 23
        }
      ]
    },
    {
      "cell_type": "code",
      "metadata": {
        "id": "21b57k5F4wGx",
        "colab_type": "code",
        "outputId": "57ca3ddf-4878-4bc0-d8ab-74607ba9a15f",
        "colab": {
          "base_uri": "https://localhost:8080/",
          "height": 34
        }
      },
      "source": [
        "text = \"Your otp to login to xyz app is 567846. Go to the following link, https://xyz.co/34567\"\n",
        "r_otp = \"[0-9]{6}\"\n",
        "re.findall(r_otp,text)"
      ],
      "execution_count": 24,
      "outputs": [
        {
          "output_type": "execute_result",
          "data": {
            "text/plain": [
              "['567846']"
            ]
          },
          "metadata": {
            "tags": []
          },
          "execution_count": 24
        }
      ]
    },
    {
      "cell_type": "markdown",
      "metadata": {
        "id": "OQyslxCT4wG3",
        "colab_type": "text"
      },
      "source": [
        "### Groups\n",
        "\n",
        "Groups of text show up everywhere.\n",
        "<ul>\n",
        "    <li>Names</li>\n",
        "    <li>Phone Numbers</li>\n",
        "    <li>Noun Phrases - \"The\" `< adjective>+` `< noun >` - For example - The funny man</li>\n",
        "</ul>"
      ]
    },
    {
      "cell_type": "code",
      "metadata": {
        "id": "rpLmlRzoMr2i",
        "colab_type": "code",
        "colab": {
          "base_uri": "https://localhost:8080/",
          "height": 320
        },
        "outputId": "67205281-87e6-497a-cc42-a1860a4b8845"
      },
      "source": [
        "p = phone[0]\n",
        "re.match(\"?P<country_code>[\\+0-9]+)-(?P<area_code>[0-9]*)-(?P<number>[0-9]8*)\",p).groupdict()"
      ],
      "execution_count": 29,
      "outputs": [
        {
          "output_type": "error",
          "ename": "error",
          "evalue": "ignored",
          "traceback": [
            "\u001b[0;31m---------------------------------------------------------------------------\u001b[0m",
            "\u001b[0;31merror\u001b[0m                                     Traceback (most recent call last)",
            "\u001b[0;32m<ipython-input-29-9d6d2782602f>\u001b[0m in \u001b[0;36m<module>\u001b[0;34m()\u001b[0m\n\u001b[1;32m      1\u001b[0m \u001b[0mp\u001b[0m \u001b[0;34m=\u001b[0m \u001b[0mphone\u001b[0m\u001b[0;34m[\u001b[0m\u001b[0;36m0\u001b[0m\u001b[0;34m]\u001b[0m\u001b[0;34m\u001b[0m\u001b[0;34m\u001b[0m\u001b[0m\n\u001b[0;32m----> 2\u001b[0;31m \u001b[0mre\u001b[0m\u001b[0;34m.\u001b[0m\u001b[0mmatch\u001b[0m\u001b[0;34m(\u001b[0m\u001b[0;34m\"?P<country_code>[\\+0-9]+)-(?P<area_code>[0-9]*)-(?P<number>[0-9]8*)\"\u001b[0m\u001b[0;34m,\u001b[0m\u001b[0mp\u001b[0m\u001b[0;34m)\u001b[0m\u001b[0;34m.\u001b[0m\u001b[0mgroupdict\u001b[0m\u001b[0;34m(\u001b[0m\u001b[0;34m)\u001b[0m\u001b[0;34m\u001b[0m\u001b[0;34m\u001b[0m\u001b[0m\n\u001b[0m",
            "\u001b[0;32m/usr/lib/python3.6/re.py\u001b[0m in \u001b[0;36mmatch\u001b[0;34m(pattern, string, flags)\u001b[0m\n\u001b[1;32m    170\u001b[0m     \"\"\"Try to apply the pattern at the start of the string, returning\n\u001b[1;32m    171\u001b[0m     a match object, or None if no match was found.\"\"\"\n\u001b[0;32m--> 172\u001b[0;31m     \u001b[0;32mreturn\u001b[0m \u001b[0m_compile\u001b[0m\u001b[0;34m(\u001b[0m\u001b[0mpattern\u001b[0m\u001b[0;34m,\u001b[0m \u001b[0mflags\u001b[0m\u001b[0;34m)\u001b[0m\u001b[0;34m.\u001b[0m\u001b[0mmatch\u001b[0m\u001b[0;34m(\u001b[0m\u001b[0mstring\u001b[0m\u001b[0;34m)\u001b[0m\u001b[0;34m\u001b[0m\u001b[0;34m\u001b[0m\u001b[0m\n\u001b[0m\u001b[1;32m    173\u001b[0m \u001b[0;34m\u001b[0m\u001b[0m\n\u001b[1;32m    174\u001b[0m \u001b[0;32mdef\u001b[0m \u001b[0mfullmatch\u001b[0m\u001b[0;34m(\u001b[0m\u001b[0mpattern\u001b[0m\u001b[0;34m,\u001b[0m \u001b[0mstring\u001b[0m\u001b[0;34m,\u001b[0m \u001b[0mflags\u001b[0m\u001b[0;34m=\u001b[0m\u001b[0;36m0\u001b[0m\u001b[0;34m)\u001b[0m\u001b[0;34m:\u001b[0m\u001b[0;34m\u001b[0m\u001b[0;34m\u001b[0m\u001b[0m\n",
            "\u001b[0;32m/usr/lib/python3.6/re.py\u001b[0m in \u001b[0;36m_compile\u001b[0;34m(pattern, flags)\u001b[0m\n\u001b[1;32m    299\u001b[0m     \u001b[0;32mif\u001b[0m \u001b[0;32mnot\u001b[0m \u001b[0msre_compile\u001b[0m\u001b[0;34m.\u001b[0m\u001b[0misstring\u001b[0m\u001b[0;34m(\u001b[0m\u001b[0mpattern\u001b[0m\u001b[0;34m)\u001b[0m\u001b[0;34m:\u001b[0m\u001b[0;34m\u001b[0m\u001b[0;34m\u001b[0m\u001b[0m\n\u001b[1;32m    300\u001b[0m         \u001b[0;32mraise\u001b[0m \u001b[0mTypeError\u001b[0m\u001b[0;34m(\u001b[0m\u001b[0;34m\"first argument must be string or compiled pattern\"\u001b[0m\u001b[0;34m)\u001b[0m\u001b[0;34m\u001b[0m\u001b[0;34m\u001b[0m\u001b[0m\n\u001b[0;32m--> 301\u001b[0;31m     \u001b[0mp\u001b[0m \u001b[0;34m=\u001b[0m \u001b[0msre_compile\u001b[0m\u001b[0;34m.\u001b[0m\u001b[0mcompile\u001b[0m\u001b[0;34m(\u001b[0m\u001b[0mpattern\u001b[0m\u001b[0;34m,\u001b[0m \u001b[0mflags\u001b[0m\u001b[0;34m)\u001b[0m\u001b[0;34m\u001b[0m\u001b[0;34m\u001b[0m\u001b[0m\n\u001b[0m\u001b[1;32m    302\u001b[0m     \u001b[0;32mif\u001b[0m \u001b[0;32mnot\u001b[0m \u001b[0;34m(\u001b[0m\u001b[0mflags\u001b[0m \u001b[0;34m&\u001b[0m \u001b[0mDEBUG\u001b[0m\u001b[0;34m)\u001b[0m\u001b[0;34m:\u001b[0m\u001b[0;34m\u001b[0m\u001b[0;34m\u001b[0m\u001b[0m\n\u001b[1;32m    303\u001b[0m         \u001b[0;32mif\u001b[0m \u001b[0mlen\u001b[0m\u001b[0;34m(\u001b[0m\u001b[0m_cache\u001b[0m\u001b[0;34m)\u001b[0m \u001b[0;34m>=\u001b[0m \u001b[0m_MAXCACHE\u001b[0m\u001b[0;34m:\u001b[0m\u001b[0;34m\u001b[0m\u001b[0;34m\u001b[0m\u001b[0m\n",
            "\u001b[0;32m/usr/lib/python3.6/sre_compile.py\u001b[0m in \u001b[0;36mcompile\u001b[0;34m(p, flags)\u001b[0m\n\u001b[1;32m    560\u001b[0m     \u001b[0;32mif\u001b[0m \u001b[0misstring\u001b[0m\u001b[0;34m(\u001b[0m\u001b[0mp\u001b[0m\u001b[0;34m)\u001b[0m\u001b[0;34m:\u001b[0m\u001b[0;34m\u001b[0m\u001b[0;34m\u001b[0m\u001b[0m\n\u001b[1;32m    561\u001b[0m         \u001b[0mpattern\u001b[0m \u001b[0;34m=\u001b[0m \u001b[0mp\u001b[0m\u001b[0;34m\u001b[0m\u001b[0;34m\u001b[0m\u001b[0m\n\u001b[0;32m--> 562\u001b[0;31m         \u001b[0mp\u001b[0m \u001b[0;34m=\u001b[0m \u001b[0msre_parse\u001b[0m\u001b[0;34m.\u001b[0m\u001b[0mparse\u001b[0m\u001b[0;34m(\u001b[0m\u001b[0mp\u001b[0m\u001b[0;34m,\u001b[0m \u001b[0mflags\u001b[0m\u001b[0;34m)\u001b[0m\u001b[0;34m\u001b[0m\u001b[0;34m\u001b[0m\u001b[0m\n\u001b[0m\u001b[1;32m    563\u001b[0m     \u001b[0;32melse\u001b[0m\u001b[0;34m:\u001b[0m\u001b[0;34m\u001b[0m\u001b[0;34m\u001b[0m\u001b[0m\n\u001b[1;32m    564\u001b[0m         \u001b[0mpattern\u001b[0m \u001b[0;34m=\u001b[0m \u001b[0;32mNone\u001b[0m\u001b[0;34m\u001b[0m\u001b[0;34m\u001b[0m\u001b[0m\n",
            "\u001b[0;32m/usr/lib/python3.6/sre_parse.py\u001b[0m in \u001b[0;36mparse\u001b[0;34m(str, flags, pattern)\u001b[0m\n\u001b[1;32m    853\u001b[0m \u001b[0;34m\u001b[0m\u001b[0m\n\u001b[1;32m    854\u001b[0m     \u001b[0;32mtry\u001b[0m\u001b[0;34m:\u001b[0m\u001b[0;34m\u001b[0m\u001b[0;34m\u001b[0m\u001b[0m\n\u001b[0;32m--> 855\u001b[0;31m         \u001b[0mp\u001b[0m \u001b[0;34m=\u001b[0m \u001b[0m_parse_sub\u001b[0m\u001b[0;34m(\u001b[0m\u001b[0msource\u001b[0m\u001b[0;34m,\u001b[0m \u001b[0mpattern\u001b[0m\u001b[0;34m,\u001b[0m \u001b[0mflags\u001b[0m \u001b[0;34m&\u001b[0m \u001b[0mSRE_FLAG_VERBOSE\u001b[0m\u001b[0;34m,\u001b[0m \u001b[0;36m0\u001b[0m\u001b[0;34m)\u001b[0m\u001b[0;34m\u001b[0m\u001b[0;34m\u001b[0m\u001b[0m\n\u001b[0m\u001b[1;32m    856\u001b[0m     \u001b[0;32mexcept\u001b[0m \u001b[0mVerbose\u001b[0m\u001b[0;34m:\u001b[0m\u001b[0;34m\u001b[0m\u001b[0;34m\u001b[0m\u001b[0m\n\u001b[1;32m    857\u001b[0m         \u001b[0;31m# the VERBOSE flag was switched on inside the pattern.  to be\u001b[0m\u001b[0;34m\u001b[0m\u001b[0;34m\u001b[0m\u001b[0;34m\u001b[0m\u001b[0m\n",
            "\u001b[0;32m/usr/lib/python3.6/sre_parse.py\u001b[0m in \u001b[0;36m_parse_sub\u001b[0;34m(source, state, verbose, nested)\u001b[0m\n\u001b[1;32m    414\u001b[0m     \u001b[0;32mwhile\u001b[0m \u001b[0;32mTrue\u001b[0m\u001b[0;34m:\u001b[0m\u001b[0;34m\u001b[0m\u001b[0;34m\u001b[0m\u001b[0m\n\u001b[1;32m    415\u001b[0m         itemsappend(_parse(source, state, verbose, nested + 1,\n\u001b[0;32m--> 416\u001b[0;31m                            not nested and not items))\n\u001b[0m\u001b[1;32m    417\u001b[0m         \u001b[0;32mif\u001b[0m \u001b[0;32mnot\u001b[0m \u001b[0msourcematch\u001b[0m\u001b[0;34m(\u001b[0m\u001b[0;34m\"|\"\u001b[0m\u001b[0;34m)\u001b[0m\u001b[0;34m:\u001b[0m\u001b[0;34m\u001b[0m\u001b[0;34m\u001b[0m\u001b[0m\n\u001b[1;32m    418\u001b[0m             \u001b[0;32mbreak\u001b[0m\u001b[0;34m\u001b[0m\u001b[0;34m\u001b[0m\u001b[0m\n",
            "\u001b[0;32m/usr/lib/python3.6/sre_parse.py\u001b[0m in \u001b[0;36m_parse\u001b[0;34m(source, state, verbose, nested, first)\u001b[0m\n\u001b[1;32m    614\u001b[0m             \u001b[0;32mif\u001b[0m \u001b[0;32mnot\u001b[0m \u001b[0mitem\u001b[0m \u001b[0;32mor\u001b[0m \u001b[0;34m(\u001b[0m\u001b[0m_len\u001b[0m\u001b[0;34m(\u001b[0m\u001b[0mitem\u001b[0m\u001b[0;34m)\u001b[0m \u001b[0;34m==\u001b[0m \u001b[0;36m1\u001b[0m \u001b[0;32mand\u001b[0m \u001b[0mitem\u001b[0m\u001b[0;34m[\u001b[0m\u001b[0;36m0\u001b[0m\u001b[0;34m]\u001b[0m\u001b[0;34m[\u001b[0m\u001b[0;36m0\u001b[0m\u001b[0;34m]\u001b[0m \u001b[0;32mis\u001b[0m \u001b[0mAT\u001b[0m\u001b[0;34m)\u001b[0m\u001b[0;34m:\u001b[0m\u001b[0;34m\u001b[0m\u001b[0;34m\u001b[0m\u001b[0m\n\u001b[1;32m    615\u001b[0m                 raise source.error(\"nothing to repeat\",\n\u001b[0;32m--> 616\u001b[0;31m                                    source.tell() - here + len(this))\n\u001b[0m\u001b[1;32m    617\u001b[0m             \u001b[0;32mif\u001b[0m \u001b[0mitem\u001b[0m\u001b[0;34m[\u001b[0m\u001b[0;36m0\u001b[0m\u001b[0;34m]\u001b[0m\u001b[0;34m[\u001b[0m\u001b[0;36m0\u001b[0m\u001b[0;34m]\u001b[0m \u001b[0;32min\u001b[0m \u001b[0m_REPEATCODES\u001b[0m\u001b[0;34m:\u001b[0m\u001b[0;34m\u001b[0m\u001b[0;34m\u001b[0m\u001b[0m\n\u001b[1;32m    618\u001b[0m                 raise source.error(\"multiple repeat\",\n",
            "\u001b[0;31merror\u001b[0m: nothing to repeat at position 0"
          ]
        }
      ]
    },
    {
      "cell_type": "code",
      "metadata": {
        "id": "UjIcls5O4wG4",
        "colab_type": "code",
        "outputId": "b82968b5-5211-475f-e477-6a68fb5cb120",
        "colab": {}
      },
      "source": [
        "p = phone[0]\n",
        "re.match(\"?P<country_code>[+0-9]+)- (?P<area_code>[0-9]*)-(?P<number>[0-9]8*)\").groupdict()"
      ],
      "execution_count": 0,
      "outputs": [
        {
          "output_type": "stream",
          "text": [
            "{'country_code': '+1', 'area_code': '972', 'number': '1234567'}\n"
          ],
          "name": "stdout"
        }
      ]
    },
    {
      "cell_type": "markdown",
      "metadata": {
        "id": "hINZBVs64wG8",
        "colab_type": "text"
      },
      "source": [
        "## More complicated patterns - Email IDs, URLs, etc"
      ]
    },
    {
      "cell_type": "markdown",
      "metadata": {
        "id": "0AAxCLh_4wG8",
        "colab_type": "text"
      },
      "source": [
        "## Fun Exercise\n",
        "\n",
        "Building a regular expression to test the validity of a password\n",
        "\n",
        "A valid password is one which\n",
        "<ul>\n",
        "    <li> must contains one digit</li>\n",
        "    <li>must contains one special symbols [#@!?]</li>\n",
        "    <li>must contains one upper characters</li>\n",
        "    <li>must contains one lowercase characters</li>\n",
        "    <li>length at least 6 characters and maximum of 20</li>\t\n",
        "</ul>"
      ]
    },
    {
      "cell_type": "code",
      "metadata": {
        "id": "alqsjDR04wG9",
        "colab_type": "code",
        "outputId": "be878303-57d1-4404-f33b-f7f1d48eb20a",
        "colab": {}
      },
      "source": [
        "def is_valid(p):\n",
        "    regex = re.compile(\"<Add-Regex-Pattern-Here>\")\n",
        "    if re.match(regex, p):\n",
        "        return True\n",
        "    return False\n",
        "\n",
        "passwords = [\"Regex123\", \"Regex@123\", \"Rr@12\"]\n",
        "for p in passwords:\n",
        "    print(is_valid(p))"
      ],
      "execution_count": 0,
      "outputs": [
        {
          "output_type": "stream",
          "text": [
            "False\n",
            "True\n",
            "False\n"
          ],
          "name": "stdout"
        }
      ]
    },
    {
      "cell_type": "code",
      "metadata": {
        "id": "1fXgQ6En4wG_",
        "colab_type": "code",
        "colab": {}
      },
      "source": [
        "s=\"sentence\"\n",
        "r = \"\""
      ],
      "execution_count": 0,
      "outputs": []
    },
    {
      "cell_type": "code",
      "metadata": {
        "id": "MKK1Wf-8Gtjl",
        "colab_type": "code",
        "colab": {}
      },
      "source": [
        ""
      ],
      "execution_count": 0,
      "outputs": []
    }
  ]
}