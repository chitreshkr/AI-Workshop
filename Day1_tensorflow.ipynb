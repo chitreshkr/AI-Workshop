{
  "nbformat": 4,
  "nbformat_minor": 0,
  "metadata": {
    "colab": {
      "name": "Untitled2.ipynb",
      "provenance": [],
      "include_colab_link": true
    },
    "kernelspec": {
      "name": "python3",
      "display_name": "Python 3"
    },
    "accelerator": "GPU"
  },
  "cells": [
    {
      "cell_type": "markdown",
      "metadata": {
        "id": "view-in-github",
        "colab_type": "text"
      },
      "source": [
        "<a href=\"https://colab.research.google.com/github/chitreshkr/AI-Workshop/blob/master/Day1_tensorflow.ipynb\" target=\"_parent\"><img src=\"https://colab.research.google.com/assets/colab-badge.svg\" alt=\"Open In Colab\"/></a>"
      ]
    },
    {
      "cell_type": "markdown",
      "metadata": {
        "id": "rh5pxy3nhzWn",
        "colab_type": "text"
      },
      "source": [
        "# Step1 Getting the data"
      ]
    },
    {
      "cell_type": "code",
      "metadata": {
        "id": "3y0Z9DFgb8PV",
        "colab_type": "code",
        "colab": {}
      },
      "source": [
        " import tensorflow as tf"
      ],
      "execution_count": 0,
      "outputs": []
    },
    {
      "cell_type": "code",
      "metadata": {
        "id": "l5LRjo9Jfjrs",
        "colab_type": "code",
        "colab": {}
      },
      "source": [
        "from tensorflow.examples.tutorials.mnist import input_data"
      ],
      "execution_count": 0,
      "outputs": []
    },
    {
      "cell_type": "code",
      "metadata": {
        "id": "bseryyR9gw2i",
        "colab_type": "code",
        "colab": {}
      },
      "source": [
        "import warnings\n",
        "warnings.filterwarnings('ignore')"
      ],
      "execution_count": 0,
      "outputs": []
    },
    {
      "cell_type": "code",
      "metadata": {
        "id": "iV-IgTYef3PI",
        "colab_type": "code",
        "colab": {
          "base_uri": "https://localhost:8080/",
          "height": 84
        },
        "outputId": "fe15bd31-4617-4023-964d-d1a7ac20417f"
      },
      "source": [
        "mnist = input_data.read_data_sets(\"MNIST_data\",one_hot=True)"
      ],
      "execution_count": 8,
      "outputs": [
        {
          "output_type": "stream",
          "text": [
            "Extracting MNIST_data/train-images-idx3-ubyte.gz\n",
            "Extracting MNIST_data/train-labels-idx1-ubyte.gz\n",
            "Extracting MNIST_data/t10k-images-idx3-ubyte.gz\n",
            "Extracting MNIST_data/t10k-labels-idx1-ubyte.gz\n"
          ],
          "name": "stdout"
        }
      ]
    },
    {
      "cell_type": "code",
      "metadata": {
        "id": "6v7j8yzlgHmE",
        "colab_type": "code",
        "colab": {
          "base_uri": "https://localhost:8080/",
          "height": 34
        },
        "outputId": "b086abca-e19d-4cdf-8324-e79971434074"
      },
      "source": [
        "type(mnist)"
      ],
      "execution_count": 9,
      "outputs": [
        {
          "output_type": "execute_result",
          "data": {
            "text/plain": [
              "tensorflow.contrib.learn.python.learn.datasets.base.Datasets"
            ]
          },
          "metadata": {
            "tags": []
          },
          "execution_count": 9
        }
      ]
    },
    {
      "cell_type": "code",
      "metadata": {
        "id": "HUTLImQPg3ED",
        "colab_type": "code",
        "colab": {
          "base_uri": "https://localhost:8080/",
          "height": 134
        },
        "outputId": "b18dc0b1-23a0-4bee-f37a-e73bed7e710b"
      },
      "source": [
        "mnist.train.images"
      ],
      "execution_count": 10,
      "outputs": [
        {
          "output_type": "execute_result",
          "data": {
            "text/plain": [
              "array([[0., 0., 0., ..., 0., 0., 0.],\n",
              "       [0., 0., 0., ..., 0., 0., 0.],\n",
              "       [0., 0., 0., ..., 0., 0., 0.],\n",
              "       ...,\n",
              "       [0., 0., 0., ..., 0., 0., 0.],\n",
              "       [0., 0., 0., ..., 0., 0., 0.],\n",
              "       [0., 0., 0., ..., 0., 0., 0.]], dtype=float32)"
            ]
          },
          "metadata": {
            "tags": []
          },
          "execution_count": 10
        }
      ]
    },
    {
      "cell_type": "code",
      "metadata": {
        "id": "mlRkQPJng8TI",
        "colab_type": "code",
        "colab": {
          "base_uri": "https://localhost:8080/",
          "height": 134
        },
        "outputId": "46f649b4-179d-437f-c9ae-57033fea6f1a"
      },
      "source": [
        "mnist.validation.images"
      ],
      "execution_count": 11,
      "outputs": [
        {
          "output_type": "execute_result",
          "data": {
            "text/plain": [
              "array([[0., 0., 0., ..., 0., 0., 0.],\n",
              "       [0., 0., 0., ..., 0., 0., 0.],\n",
              "       [0., 0., 0., ..., 0., 0., 0.],\n",
              "       ...,\n",
              "       [0., 0., 0., ..., 0., 0., 0.],\n",
              "       [0., 0., 0., ..., 0., 0., 0.],\n",
              "       [0., 0., 0., ..., 0., 0., 0.]], dtype=float32)"
            ]
          },
          "metadata": {
            "tags": []
          },
          "execution_count": 11
        }
      ]
    },
    {
      "cell_type": "code",
      "metadata": {
        "id": "QGn1NDRihAko",
        "colab_type": "code",
        "colab": {
          "base_uri": "https://localhost:8080/",
          "height": 34
        },
        "outputId": "15fd8574-66b4-4d93-bd2c-c0e6d9422cf9"
      },
      "source": [
        "mnist.train.num_examples"
      ],
      "execution_count": 12,
      "outputs": [
        {
          "output_type": "execute_result",
          "data": {
            "text/plain": [
              "55000"
            ]
          },
          "metadata": {
            "tags": []
          },
          "execution_count": 12
        }
      ]
    },
    {
      "cell_type": "code",
      "metadata": {
        "id": "ODQMErlBhD8y",
        "colab_type": "code",
        "colab": {
          "base_uri": "https://localhost:8080/",
          "height": 34
        },
        "outputId": "5586c35f-2cbc-4a19-b348-4bbccb337224"
      },
      "source": [
        "mnist.test.num_examples"
      ],
      "execution_count": 13,
      "outputs": [
        {
          "output_type": "execute_result",
          "data": {
            "text/plain": [
              "10000"
            ]
          },
          "metadata": {
            "tags": []
          },
          "execution_count": 13
        }
      ]
    },
    {
      "cell_type": "markdown",
      "metadata": {
        "id": "tbA_W0ibhqNq",
        "colab_type": "text"
      },
      "source": [
        "# Step 2 Visualizing the Data"
      ]
    },
    {
      "cell_type": "code",
      "metadata": {
        "id": "XW9ibRNRh9Yv",
        "colab_type": "code",
        "colab": {}
      },
      "source": [
        "import matplotlib.pyplot as plt\n",
        "%matplotlib inline"
      ],
      "execution_count": 0,
      "outputs": []
    },
    {
      "cell_type": "code",
      "metadata": {
        "id": "rGebcFS6iEDW",
        "colab_type": "code",
        "colab": {
          "base_uri": "https://localhost:8080/",
          "height": 34
        },
        "outputId": "b7158667-cf96-4b9e-bb1d-c98f047c9890"
      },
      "source": [
        "mnist.train.images.shape"
      ],
      "execution_count": 17,
      "outputs": [
        {
          "output_type": "execute_result",
          "data": {
            "text/plain": [
              "(55000, 784)"
            ]
          },
          "metadata": {
            "tags": []
          },
          "execution_count": 17
        }
      ]
    },
    {
      "cell_type": "code",
      "metadata": {
        "id": "QQsscy12iaeo",
        "colab_type": "code",
        "colab": {
          "base_uri": "https://localhost:8080/",
          "height": 1000
        },
        "outputId": "e521bd85-356f-4de3-af3e-56c3e831d1f3"
      },
      "source": [
        "mnist.train.images[500]"
      ],
      "execution_count": 18,
      "outputs": [
        {
          "output_type": "execute_result",
          "data": {
            "text/plain": [
              "array([0.        , 0.        , 0.        , 0.        , 0.        ,\n",
              "       0.        , 0.        , 0.        , 0.        , 0.        ,\n",
              "       0.        , 0.        , 0.        , 0.        , 0.        ,\n",
              "       0.        , 0.        , 0.        , 0.        , 0.        ,\n",
              "       0.        , 0.        , 0.        , 0.        , 0.        ,\n",
              "       0.        , 0.        , 0.        , 0.        , 0.        ,\n",
              "       0.        , 0.        , 0.        , 0.        , 0.        ,\n",
              "       0.        , 0.        , 0.        , 0.        , 0.        ,\n",
              "       0.        , 0.        , 0.        , 0.        , 0.        ,\n",
              "       0.        , 0.        , 0.        , 0.        , 0.        ,\n",
              "       0.        , 0.        , 0.        , 0.        , 0.        ,\n",
              "       0.        , 0.        , 0.        , 0.        , 0.        ,\n",
              "       0.        , 0.        , 0.        , 0.        , 0.        ,\n",
              "       0.        , 0.        , 0.        , 0.        , 0.        ,\n",
              "       0.        , 0.        , 0.        , 0.        , 0.        ,\n",
              "       0.        , 0.        , 0.        , 0.        , 0.        ,\n",
              "       0.        , 0.        , 0.        , 0.        , 0.        ,\n",
              "       0.        , 0.        , 0.        , 0.        , 0.        ,\n",
              "       0.        , 0.        , 0.        , 0.        , 0.        ,\n",
              "       0.        , 0.        , 0.        , 0.        , 0.        ,\n",
              "       0.        , 0.        , 0.        , 0.        , 0.        ,\n",
              "       0.        , 0.        , 0.        , 0.        , 0.        ,\n",
              "       0.        , 0.        , 0.        , 0.        , 0.        ,\n",
              "       0.        , 0.        , 0.        , 0.        , 0.        ,\n",
              "       0.        , 0.        , 0.        , 0.        , 0.        ,\n",
              "       0.        , 0.21568629, 0.7960785 , 0.5019608 , 0.        ,\n",
              "       0.        , 0.        , 0.        , 0.        , 0.        ,\n",
              "       0.        , 0.        , 0.        , 0.        , 0.        ,\n",
              "       0.        , 0.        , 0.        , 0.        , 0.        ,\n",
              "       0.        , 0.        , 0.        , 0.        , 0.        ,\n",
              "       0.        , 0.        , 0.        , 0.        , 0.7411765 ,\n",
              "       0.9921569 , 0.7607844 , 0.        , 0.        , 0.        ,\n",
              "       0.        , 0.        , 0.        , 0.        , 0.        ,\n",
              "       0.        , 0.        , 0.        , 0.        , 0.        ,\n",
              "       0.        , 0.        , 0.        , 0.        , 0.        ,\n",
              "       0.        , 0.        , 0.        , 0.        , 0.        ,\n",
              "       0.        , 0.        , 0.90196085, 0.9176471 , 0.24705884,\n",
              "       0.        , 0.        , 0.        , 0.        , 0.        ,\n",
              "       0.        , 0.        , 0.        , 0.        , 0.        ,\n",
              "       0.        , 0.        , 0.        , 0.        , 0.        ,\n",
              "       0.        , 0.        , 0.        , 0.        , 0.        ,\n",
              "       0.        , 0.        , 0.        , 0.        , 0.        ,\n",
              "       0.90196085, 0.96470594, 0.19607845, 0.        , 0.        ,\n",
              "       0.        , 0.        , 0.        , 0.        , 0.        ,\n",
              "       0.        , 0.        , 0.        , 0.        , 0.        ,\n",
              "       0.        , 0.        , 0.        , 0.        , 0.        ,\n",
              "       0.        , 0.        , 0.        , 0.        , 0.        ,\n",
              "       0.        , 0.        , 0.        , 0.9058824 , 0.9686275 ,\n",
              "       0.19607845, 0.        , 0.        , 0.        , 0.        ,\n",
              "       0.        , 0.        , 0.        , 0.        , 0.        ,\n",
              "       0.        , 0.        , 0.        , 0.        , 0.        ,\n",
              "       0.        , 0.        , 0.        , 0.        , 0.        ,\n",
              "       0.        , 0.        , 0.        , 0.        , 0.        ,\n",
              "       0.        , 0.90196085, 0.9843138 , 0.24705884, 0.        ,\n",
              "       0.        , 0.        , 0.        , 0.        , 0.        ,\n",
              "       0.        , 0.        , 0.        , 0.        , 0.        ,\n",
              "       0.        , 0.        , 0.        , 0.        , 0.        ,\n",
              "       0.        , 0.        , 0.        , 0.        , 0.        ,\n",
              "       0.        , 0.        , 0.        , 0.22352943, 0.97647065,\n",
              "       0.9921569 , 0.27058825, 0.        , 0.        , 0.        ,\n",
              "       0.        , 0.        , 0.        , 0.        , 0.        ,\n",
              "       0.        , 0.        , 0.        , 0.        , 0.        ,\n",
              "       0.        , 0.        , 0.        , 0.        , 0.        ,\n",
              "       0.        , 0.        , 0.        , 0.        , 0.        ,\n",
              "       0.        , 0.1764706 , 0.9607844 , 0.9568628 , 0.17254902,\n",
              "       0.        , 0.        , 0.        , 0.        , 0.        ,\n",
              "       0.        , 0.        , 0.        , 0.        , 0.        ,\n",
              "       0.        , 0.        , 0.        , 0.        , 0.        ,\n",
              "       0.        , 0.        , 0.        , 0.        , 0.        ,\n",
              "       0.        , 0.        , 0.        , 0.        , 0.27450982,\n",
              "       0.9960785 , 0.90196085, 0.        , 0.        , 0.        ,\n",
              "       0.        , 0.        , 0.        , 0.        , 0.        ,\n",
              "       0.        , 0.        , 0.        , 0.        , 0.        ,\n",
              "       0.        , 0.        , 0.        , 0.        , 0.        ,\n",
              "       0.        , 0.        , 0.        , 0.        , 0.        ,\n",
              "       0.        , 0.        , 0.34117648, 0.9921569 , 0.5686275 ,\n",
              "       0.        , 0.        , 0.        , 0.        , 0.        ,\n",
              "       0.        , 0.        , 0.        , 0.        , 0.        ,\n",
              "       0.        , 0.        , 0.        , 0.        , 0.        ,\n",
              "       0.        , 0.        , 0.        , 0.        , 0.        ,\n",
              "       0.        , 0.        , 0.        , 0.        , 0.        ,\n",
              "       0.6313726 , 0.9921569 , 0.5372549 , 0.        , 0.        ,\n",
              "       0.        , 0.        , 0.        , 0.        , 0.        ,\n",
              "       0.        , 0.        , 0.        , 0.        , 0.        ,\n",
              "       0.        , 0.        , 0.        , 0.        , 0.        ,\n",
              "       0.        , 0.        , 0.        , 0.        , 0.        ,\n",
              "       0.        , 0.        , 0.        , 0.6313726 , 0.9921569 ,\n",
              "       0.2784314 , 0.        , 0.        , 0.        , 0.        ,\n",
              "       0.        , 0.        , 0.        , 0.        , 0.        ,\n",
              "       0.        , 0.        , 0.        , 0.        , 0.        ,\n",
              "       0.        , 0.        , 0.        , 0.        , 0.        ,\n",
              "       0.        , 0.        , 0.        , 0.        , 0.        ,\n",
              "       0.        , 0.9960785 , 0.9960785 , 0.18039216, 0.        ,\n",
              "       0.        , 0.        , 0.        , 0.        , 0.        ,\n",
              "       0.        , 0.        , 0.        , 0.        , 0.        ,\n",
              "       0.        , 0.        , 0.        , 0.        , 0.        ,\n",
              "       0.        , 0.        , 0.        , 0.        , 0.        ,\n",
              "       0.        , 0.        , 0.        , 0.        , 0.9960785 ,\n",
              "       0.9921569 , 0.18039216, 0.        , 0.        , 0.        ,\n",
              "       0.        , 0.        , 0.        , 0.        , 0.        ,\n",
              "       0.        , 0.        , 0.        , 0.        , 0.        ,\n",
              "       0.        , 0.        , 0.        , 0.        , 0.        ,\n",
              "       0.        , 0.        , 0.        , 0.        , 0.        ,\n",
              "       0.        , 0.        , 0.9960785 , 0.9921569 , 0.18039216,\n",
              "       0.        , 0.        , 0.        , 0.        , 0.        ,\n",
              "       0.        , 0.        , 0.        , 0.        , 0.        ,\n",
              "       0.        , 0.        , 0.        , 0.        , 0.        ,\n",
              "       0.        , 0.        , 0.        , 0.        , 0.        ,\n",
              "       0.        , 0.        , 0.        , 0.        , 0.26666668,\n",
              "       0.9960785 , 0.92549026, 0.1137255 , 0.        , 0.        ,\n",
              "       0.        , 0.        , 0.        , 0.        , 0.        ,\n",
              "       0.        , 0.        , 0.        , 0.        , 0.        ,\n",
              "       0.        , 0.        , 0.        , 0.        , 0.        ,\n",
              "       0.        , 0.        , 0.        , 0.        , 0.        ,\n",
              "       0.        , 0.        , 0.3647059 , 1.        , 0.8117648 ,\n",
              "       0.        , 0.        , 0.        , 0.        , 0.        ,\n",
              "       0.        , 0.        , 0.        , 0.        , 0.        ,\n",
              "       0.        , 0.        , 0.        , 0.        , 0.        ,\n",
              "       0.        , 0.        , 0.        , 0.        , 0.        ,\n",
              "       0.        , 0.        , 0.        , 0.        , 0.        ,\n",
              "       0.3647059 , 0.9960785 , 0.8078432 , 0.        , 0.        ,\n",
              "       0.        , 0.        , 0.        , 0.        , 0.        ,\n",
              "       0.        , 0.        , 0.        , 0.        , 0.        ,\n",
              "       0.        , 0.        , 0.        , 0.        , 0.        ,\n",
              "       0.        , 0.        , 0.        , 0.        , 0.        ,\n",
              "       0.        , 0.        , 0.        , 0.32941177, 0.9960785 ,\n",
              "       0.8941177 , 0.08235294, 0.        , 0.        , 0.        ,\n",
              "       0.        , 0.        , 0.        , 0.        , 0.        ,\n",
              "       0.        , 0.        , 0.        , 0.        , 0.        ,\n",
              "       0.        , 0.        , 0.        , 0.        , 0.        ,\n",
              "       0.        , 0.        , 0.        , 0.        , 0.        ,\n",
              "       0.        , 0.        , 0.86274517, 0.7254902 , 0.0509804 ,\n",
              "       0.        , 0.        , 0.        , 0.        , 0.        ,\n",
              "       0.        , 0.        , 0.        , 0.        , 0.        ,\n",
              "       0.        , 0.        , 0.        , 0.        , 0.        ,\n",
              "       0.        , 0.        , 0.        , 0.        , 0.        ,\n",
              "       0.        , 0.        , 0.        , 0.        , 0.        ,\n",
              "       0.        , 0.        , 0.        , 0.        , 0.        ,\n",
              "       0.        , 0.        , 0.        , 0.        , 0.        ,\n",
              "       0.        , 0.        , 0.        , 0.        , 0.        ,\n",
              "       0.        , 0.        , 0.        , 0.        , 0.        ,\n",
              "       0.        , 0.        , 0.        , 0.        , 0.        ,\n",
              "       0.        , 0.        , 0.        , 0.        , 0.        ,\n",
              "       0.        , 0.        , 0.        , 0.        , 0.        ,\n",
              "       0.        , 0.        , 0.        , 0.        , 0.        ,\n",
              "       0.        , 0.        , 0.        , 0.        , 0.        ,\n",
              "       0.        , 0.        , 0.        , 0.        , 0.        ,\n",
              "       0.        , 0.        , 0.        , 0.        , 0.        ,\n",
              "       0.        , 0.        , 0.        , 0.        , 0.        ,\n",
              "       0.        , 0.        , 0.        , 0.        , 0.        ,\n",
              "       0.        , 0.        , 0.        , 0.        , 0.        ,\n",
              "       0.        , 0.        , 0.        , 0.        , 0.        ,\n",
              "       0.        , 0.        , 0.        , 0.        , 0.        ,\n",
              "       0.        , 0.        , 0.        , 0.        , 0.        ,\n",
              "       0.        , 0.        , 0.        , 0.        , 0.        ,\n",
              "       0.        , 0.        , 0.        , 0.        , 0.        ,\n",
              "       0.        , 0.        , 0.        , 0.        ], dtype=float32)"
            ]
          },
          "metadata": {
            "tags": []
          },
          "execution_count": 18
        }
      ]
    },
    {
      "cell_type": "code",
      "metadata": {
        "id": "41GySn4xidsU",
        "colab_type": "code",
        "colab": {}
      },
      "source": [
        "my_img = mnist.train.images[500].reshape(28,28)"
      ],
      "execution_count": 0,
      "outputs": []
    },
    {
      "cell_type": "code",
      "metadata": {
        "id": "4aoAV2-mi8yd",
        "colab_type": "code",
        "colab": {
          "base_uri": "https://localhost:8080/",
          "height": 282
        },
        "outputId": "2a679142-4f66-4178-cb02-cf9c0d0de7f2"
      },
      "source": [
        "plt.imshow(my_img)"
      ],
      "execution_count": 21,
      "outputs": [
        {
          "output_type": "execute_result",
          "data": {
            "text/plain": [
              "<matplotlib.image.AxesImage at 0x7f0e8f012080>"
            ]
          },
          "metadata": {
            "tags": []
          },
          "execution_count": 21
        },
        {
          "output_type": "display_data",
          "data": {
            "image/png": "[encoded data removed]",
            "text/plain": [
              "<Figure size 432x288 with 1 Axes>"
            ]
          },
          "metadata": {
            "tags": []
          }
        }
      ]
    },
    {
      "cell_type": "code",
      "metadata": {
        "id": "rJYr8RDJjBJY",
        "colab_type": "code",
        "colab": {
          "base_uri": "https://localhost:8080/",
          "height": 282
        },
        "outputId": "03e30338-5f44-4fab-a1e6-51ffed095c98"
      },
      "source": [
        "plt.imshow(my_img, cmap='gist_gray')"
      ],
      "execution_count": 22,
      "outputs": [
        {
          "output_type": "execute_result",
          "data": {
            "text/plain": [
              "<matplotlib.image.AxesImage at 0x7f0e8fd243c8>"
            ]
          },
          "metadata": {
            "tags": []
          },
          "execution_count": 22
        },
        {
          "output_type": "display_data",
          "data": {
            "image/png": "[encoded data removed]",
            "text/plain": [
              "<Figure size 432x288 with 1 Axes>"
            ]
          },
          "metadata": {
            "tags": []
          }
        }
      ]
    },
    {
      "cell_type": "code",
      "metadata": {
        "id": "Q18gTNnSjSbi",
        "colab_type": "code",
        "colab": {
          "base_uri": "https://localhost:8080/",
          "height": 34
        },
        "outputId": "7559fc3b-31d3-4bdc-f16c-90269c46948a"
      },
      "source": [
        "my_img.min()"
      ],
      "execution_count": 23,
      "outputs": [
        {
          "output_type": "execute_result",
          "data": {
            "text/plain": [
              "0.0"
            ]
          },
          "metadata": {
            "tags": []
          },
          "execution_count": 23
        }
      ]
    },
    {
      "cell_type": "code",
      "metadata": {
        "id": "jUqcgpgzjrzU",
        "colab_type": "code",
        "colab": {
          "base_uri": "https://localhost:8080/",
          "height": 34
        },
        "outputId": "c7c9cbc2-7c1c-4b5c-b12f-6d5ad6ccabfe"
      },
      "source": [
        "my_img.max()"
      ],
      "execution_count": 24,
      "outputs": [
        {
          "output_type": "execute_result",
          "data": {
            "text/plain": [
              "1.0"
            ]
          },
          "metadata": {
            "tags": []
          },
          "execution_count": 24
        }
      ]
    },
    {
      "cell_type": "code",
      "metadata": {
        "id": "ppnEcFR7jtxc",
        "colab_type": "code",
        "colab": {
          "base_uri": "https://localhost:8080/",
          "height": 174
        },
        "outputId": "c5cf6708-5eb9-4d1f-9836-f9aa9c762c47"
      },
      "source": [
        "my_img2 = mnist.train.images[500].reshape(784,1)\n",
        "plt.imshow(my_img2,aspect=0.0004)"
      ],
      "execution_count": 30,
      "outputs": [
        {
          "output_type": "execute_result",
          "data": {
            "text/plain": [
              "<matplotlib.image.AxesImage at 0x7f0e8e59a1d0>"
            ]
          },
          "metadata": {
            "tags": []
          },
          "execution_count": 30
        },
        {
          "output_type": "display_data",
          "data": {
            "image/png": "[encoded data removed]",
            "text/plain": [
              "<Figure size 432x288 with 1 Axes>"
            ]
          },
          "metadata": {
            "tags": []
          }
        }
      ]
    },
    {
      "cell_type": "markdown",
      "metadata": {
        "id": "hh4wfAnDkdb8",
        "colab_type": "text"
      },
      "source": [
        "# Step3 - Building my first NN Model"
      ]
    },
    {
      "cell_type": "markdown",
      "metadata": {
        "id": "r_8WeBv_k5bX",
        "colab_type": "text"
      },
      "source": [
        "1.   Placeholders\n",
        "2.   Variables\n",
        "3. Create our computation graph\n",
        "4. Loss Functions\n",
        "5. Optimizer\n",
        "6. Create and run the session\n",
        "\n"
      ]
    },
    {
      "cell_type": "code",
      "metadata": {
        "id": "62alPdZ5lWEi",
        "colab_type": "code",
        "colab": {}
      },
      "source": [
        "x = tf.placeholder(tf.float32,shape=[None,784])"
      ],
      "execution_count": 0,
      "outputs": []
    },
    {
      "cell_type": "code",
      "metadata": {
        "id": "sjMU6JnRliBB",
        "colab_type": "code",
        "colab": {}
      },
      "source": [
        "# Weights and bias\n",
        "W = tf.Variable(tf.zeros([784,10]))\n",
        "b = tf.Variable(tf.zeros([10]))"
      ],
      "execution_count": 0,
      "outputs": []
    },
    {
      "cell_type": "code",
      "metadata": {
        "id": "Obd6KqdVlyQm",
        "colab_type": "code",
        "colab": {}
      },
      "source": [
        "# Create my computation graph\n",
        "y = tf.matmul(x,W) + b"
      ],
      "execution_count": 0,
      "outputs": []
    },
    {
      "cell_type": "code",
      "metadata": {
        "id": "azp7wozrl3QF",
        "colab_type": "code",
        "colab": {}
      },
      "source": [
        "y_true = tf.placeholder(tf.float32,shape=[None,10])"
      ],
      "execution_count": 0,
      "outputs": []
    },
    {
      "cell_type": "code",
      "metadata": {
        "id": "7lxjmadXmHRK",
        "colab_type": "code",
        "colab": {}
      },
      "source": [
        "cross_entropy = tf.reduce_mean(tf.nn.softmax_cross_entropy_with_logits_v2(labels=y_true,logits = y))"
      ],
      "execution_count": 0,
      "outputs": []
    },
    {
      "cell_type": "code",
      "metadata": {
        "id": "7ie7Cc9rm28v",
        "colab_type": "code",
        "colab": {}
      },
      "source": [
        "optimizer = tf.train.AdamOptimizer(learning_rate=0.001)"
      ],
      "execution_count": 0,
      "outputs": []
    },
    {
      "cell_type": "code",
      "metadata": {
        "id": "5wug8BZVnUpZ",
        "colab_type": "code",
        "colab": {}
      },
      "source": [
        "train = optimizer.minimize(cross_entropy)"
      ],
      "execution_count": 0,
      "outputs": []
    },
    {
      "cell_type": "code",
      "metadata": {
        "id": "jalHGEQqnb-s",
        "colab_type": "code",
        "colab": {}
      },
      "source": [
        "init = tf.global_variables_initializer()"
      ],
      "execution_count": 0,
      "outputs": []
    },
    {
      "cell_type": "markdown",
      "metadata": {
        "id": "VcO6T2tXoe8G",
        "colab_type": "text"
      },
      "source": [
        "# Create and Run the session"
      ]
    },
    {
      "cell_type": "code",
      "metadata": {
        "id": "7cgAzBfsod5V",
        "colab_type": "code",
        "colab": {
          "base_uri": "https://localhost:8080/",
          "height": 1000
        },
        "outputId": "81e045aa-423d-47df-aeb0-8fc130f29381"
      },
      "source": [
        "with tf.Session() as sess:\n",
        "  sess.run(init)\n",
        "\n",
        "  #Train 10000\n",
        "  for step in range(10000):\n",
        "    batch_x,batch_y = mnist.train.next_batch(100)\n",
        "    sess.run(train,feed_dict = {x : batch_x ,y_true : batch_y})\n",
        "\n",
        "    #Evaluate the test/train model\n",
        "\n",
        "    matches = tf.equal(tf.arg_max(y,1),tf.arg_max(y_true,1))\n",
        "\n",
        "    accuracy = tf.reduce_mean(tf.cast(matches,tf.float32))\n",
        "\n",
        "    print(sess.run(accuracy,feed_dict = {x : mnist.test.images,\n",
        "                                         y_true : mnist.test.labels}))\n",
        "        \n",
        "print(\"Epoch : {} cost {: .4f}\".format(epoch+1,avg_cost))\n",
        "print(\"Model has completed {} Epochs of training\".format (training_epochs))"
      ],
      "execution_count": 0,
      "outputs": [
        {
          "output_type": "stream",
          "text": [
            "0.4914\n",
            "0.5565\n",
            "0.5711\n",
            "0.597\n",
            "0.6069\n",
            "0.6095\n",
            "0.6303\n",
            "0.6689\n",
            "0.6864\n",
            "0.7037\n",
            "0.7137\n",
            "0.7157\n",
            "0.7164\n",
            "0.7188\n",
            "0.7204\n",
            "0.7226\n",
            "0.7253\n",
            "0.7286\n",
            "0.733\n",
            "0.7382\n",
            "0.7417\n",
            "0.7441\n",
            "0.7497\n",
            "0.7525\n",
            "0.7561\n",
            "0.7623\n",
            "0.7702\n",
            "0.772\n",
            "0.776\n",
            "0.7814\n",
            "0.7853\n",
            "0.7898\n",
            "0.7928\n",
            "0.7959\n",
            "0.7986\n",
            "0.8002\n",
            "0.8011\n",
            "0.801\n",
            "0.8021\n",
            "0.8031\n",
            "0.8038\n",
            "0.8059\n",
            "0.8063\n",
            "0.8076\n",
            "0.808\n",
            "0.8097\n",
            "0.81\n",
            "0.8129\n",
            "0.8155\n",
            "0.8173\n",
            "0.8198\n",
            "0.8203\n",
            "0.8213\n",
            "0.8229\n",
            "0.8236\n",
            "0.824\n",
            "0.8253\n",
            "0.827\n",
            "0.8275\n",
            "0.8287\n",
            "0.8294\n",
            "0.8317\n",
            "0.8329\n",
            "0.8338\n",
            "0.8347\n",
            "0.8363\n",
            "0.8368\n",
            "0.8379\n",
            "0.8393\n",
            "0.84\n",
            "0.8404\n",
            "0.841\n",
            "0.8414\n",
            "0.841\n",
            "0.8405\n",
            "0.8395\n",
            "0.8387\n",
            "0.8368\n",
            "0.8362\n",
            "0.8368\n",
            "0.837\n",
            "0.8373\n",
            "0.8369\n",
            "0.8372\n",
            "0.8377\n",
            "0.8381\n",
            "0.8384\n",
            "0.8392\n",
            "0.8393\n",
            "0.84\n",
            "0.8405\n",
            "0.8424\n",
            "0.844\n",
            "0.8465\n",
            "0.8487\n",
            "0.85\n",
            "0.851\n",
            "0.8524\n",
            "0.8531\n",
            "0.8526\n",
            "0.8534\n",
            "0.8538\n",
            "0.8542\n",
            "0.854\n",
            "0.8541\n",
            "0.8544\n",
            "0.8564\n",
            "0.857\n",
            "0.8567\n",
            "0.8564\n",
            "0.8564\n",
            "0.8578\n",
            "0.8588\n",
            "0.8594\n",
            "0.8599\n",
            "0.8604\n",
            "0.8607\n",
            "0.8607\n",
            "0.8612\n",
            "0.8617\n",
            "0.8624\n",
            "0.8631\n",
            "0.8635\n",
            "0.864\n",
            "0.8643\n",
            "0.8648\n",
            "0.8649\n",
            "0.8648\n",
            "0.8663\n",
            "0.8663\n",
            "0.8663\n",
            "0.8663\n",
            "0.8668\n",
            "0.8662\n",
            "0.8662\n",
            "0.8659\n",
            "0.8655\n",
            "0.8646\n",
            "0.8638\n",
            "0.8635\n",
            "0.8627\n",
            "0.8635\n",
            "0.8639\n",
            "0.8641\n",
            "0.8641\n",
            "0.8643\n",
            "0.8652\n",
            "0.8648\n",
            "0.8649\n",
            "0.8655\n",
            "0.8656\n",
            "0.8665\n",
            "0.867\n",
            "0.8675\n",
            "0.8683\n",
            "0.869\n",
            "0.8688\n",
            "0.8692\n",
            "0.8688\n",
            "0.8696\n",
            "0.8696\n",
            "0.8698\n",
            "0.8706\n",
            "0.8707\n",
            "0.8713\n",
            "0.8712\n",
            "0.8729\n",
            "0.8728\n",
            "0.873\n",
            "0.8741\n",
            "0.8754\n",
            "0.8763\n",
            "0.8762\n",
            "0.8764\n",
            "0.8762\n",
            "0.8761\n",
            "0.8758\n",
            "0.8758\n",
            "0.876\n",
            "0.8756\n",
            "0.8755\n",
            "0.8752\n",
            "0.8753\n",
            "0.8753\n",
            "0.8754\n",
            "0.8753\n",
            "0.875\n",
            "0.8752\n",
            "0.876\n",
            "0.8768\n",
            "0.8769\n",
            "0.877\n",
            "0.8766\n",
            "0.876\n",
            "0.8769\n",
            "0.8764\n",
            "0.8767\n",
            "0.8766\n",
            "0.8771\n",
            "0.8774\n",
            "0.8782\n",
            "0.8783\n",
            "0.8789\n",
            "0.879\n",
            "0.8791\n",
            "0.8785\n",
            "0.8787\n",
            "0.8787\n",
            "0.8792\n",
            "0.8794\n",
            "0.8796\n",
            "0.8794\n",
            "0.8799\n",
            "0.8799\n",
            "0.8809\n",
            "0.8806\n",
            "0.8812\n",
            "0.8818\n",
            "0.882\n",
            "0.882\n",
            "0.8819\n",
            "0.8822\n",
            "0.8823\n",
            "0.8834\n",
            "0.884\n",
            "0.8842\n",
            "0.8841\n",
            "0.8843\n",
            "0.8844\n",
            "0.8839\n",
            "0.8838\n",
            "0.8834\n",
            "0.8827\n",
            "0.8826\n",
            "0.8828\n",
            "0.883\n",
            "0.8831\n",
            "0.8836\n",
            "0.8839\n",
            "0.884\n",
            "0.8842\n",
            "0.8845\n",
            "0.8846\n",
            "0.8845\n",
            "0.8852\n",
            "0.8855\n",
            "0.886\n",
            "0.8861\n",
            "0.8856\n",
            "0.8861\n",
            "0.8868\n",
            "0.8876\n",
            "0.8877\n",
            "0.8893\n",
            "0.8891\n",
            "0.8891\n",
            "0.8889\n",
            "0.8892\n",
            "0.8899\n",
            "0.8897\n",
            "0.8898\n",
            "0.8899\n",
            "0.89\n",
            "0.8904\n",
            "0.8909\n",
            "0.8909\n",
            "0.8909\n",
            "0.8903\n",
            "0.8905\n",
            "0.8905\n",
            "0.8904\n",
            "0.8902\n",
            "0.8906\n",
            "0.89\n",
            "0.8905\n",
            "0.89\n",
            "0.8904\n",
            "0.8905\n",
            "0.8911\n",
            "0.8907\n",
            "0.8908\n",
            "0.891\n",
            "0.891\n",
            "0.8919\n",
            "0.8922\n",
            "0.8919\n",
            "0.8924\n",
            "0.8917\n",
            "0.8919\n",
            "0.8925\n",
            "0.8927\n",
            "0.8934\n",
            "0.8935\n",
            "0.8935\n",
            "0.8938\n",
            "0.8938\n",
            "0.894\n",
            "0.8934\n",
            "0.8936\n",
            "0.893\n",
            "0.8925\n",
            "0.8927\n",
            "0.8929\n",
            "0.8928\n",
            "0.8926\n",
            "0.8924\n",
            "0.8925\n",
            "0.8925\n",
            "0.8926\n",
            "0.8933\n",
            "0.8931\n",
            "0.8931\n",
            "0.8934\n",
            "0.8936\n",
            "0.8938\n",
            "0.8943\n",
            "0.8942\n",
            "0.8942\n",
            "0.8945\n",
            "0.8943\n",
            "0.8947\n",
            "0.8949\n",
            "0.8951\n",
            "0.8949\n",
            "0.8953\n",
            "0.895\n",
            "0.895\n",
            "0.8952\n",
            "0.8956\n",
            "0.8958\n",
            "0.896\n",
            "0.8961\n",
            "0.897\n",
            "0.897\n",
            "0.8973\n",
            "0.8975\n",
            "0.8976\n",
            "0.8982\n",
            "0.8977\n",
            "0.8971\n",
            "0.8968\n",
            "0.8971\n",
            "0.8972\n",
            "0.8974\n",
            "0.8971\n",
            "0.8974\n",
            "0.8977\n",
            "0.8977\n",
            "0.8979\n",
            "0.8975\n",
            "0.8978\n",
            "0.8973\n",
            "0.8978\n",
            "0.8981\n",
            "0.8978\n",
            "0.8981\n",
            "0.8984\n",
            "0.8985\n",
            "0.8986\n",
            "0.8983\n",
            "0.8983\n",
            "0.8984\n",
            "0.8983\n",
            "0.8987\n",
            "0.8982\n",
            "0.8979\n",
            "0.8973\n",
            "0.897\n",
            "0.8969\n",
            "0.8975\n",
            "0.8969\n",
            "0.8969\n",
            "0.8958\n",
            "0.8966\n",
            "0.8963\n",
            "0.8961\n",
            "0.8957\n",
            "0.8957\n",
            "0.896\n",
            "0.8965\n",
            "0.8967\n",
            "0.897\n",
            "0.8973\n",
            "0.8978\n",
            "0.8975\n",
            "0.898\n",
            "0.8975\n",
            "0.8976\n",
            "0.8977\n",
            "0.8978\n",
            "0.8974\n",
            "0.8977\n",
            "0.8979\n",
            "0.8979\n",
            "0.898\n",
            "0.8986\n",
            "0.899\n",
            "0.899\n",
            "0.899\n",
            "0.8989\n",
            "0.899\n",
            "0.8995\n",
            "0.8998\n",
            "0.9005\n",
            "0.9003\n",
            "0.9002\n",
            "0.9005\n",
            "0.9003\n",
            "0.9002\n",
            "0.9002\n",
            "0.9002\n",
            "0.9003\n",
            "0.9002\n",
            "0.9001\n",
            "0.9\n",
            "0.9002\n",
            "0.9007\n",
            "0.9003\n",
            "0.8998\n",
            "0.9\n",
            "0.9\n",
            "0.8994\n",
            "0.8992\n",
            "0.899\n",
            "0.8989\n",
            "0.8991\n",
            "0.8995\n",
            "0.8994\n",
            "0.8988\n",
            "0.8985\n",
            "0.8984\n",
            "0.898\n",
            "0.8979\n",
            "0.8981\n",
            "0.8985\n",
            "0.899\n",
            "0.9\n",
            "0.9\n",
            "0.8996\n",
            "0.8998\n",
            "0.8991\n",
            "0.8993\n",
            "0.8996\n",
            "0.8995\n",
            "0.8995\n",
            "0.8993\n",
            "0.8992\n",
            "0.8989\n",
            "0.8987\n",
            "0.899\n",
            "0.8996\n",
            "0.9\n",
            "0.9002\n",
            "0.9003\n",
            "0.901\n",
            "0.9015\n",
            "0.9017\n",
            "0.9023\n",
            "0.902\n",
            "0.9019\n",
            "0.902\n",
            "0.9024\n",
            "0.9028\n",
            "0.9031\n",
            "0.9026\n",
            "0.9025\n",
            "0.902\n",
            "0.9021\n",
            "0.9019\n",
            "0.9019\n",
            "0.9025\n",
            "0.9025\n",
            "0.9026\n",
            "0.9022\n",
            "0.9022\n",
            "0.9022\n",
            "0.902\n",
            "0.9022\n",
            "0.9026\n",
            "0.9022\n",
            "0.9018\n",
            "0.9013\n",
            "0.9013\n",
            "0.9012\n",
            "0.9014\n",
            "0.9013\n",
            "0.901\n",
            "0.9013\n",
            "0.9012\n",
            "0.9012\n",
            "0.9011\n",
            "0.9009\n",
            "0.901\n",
            "0.9006\n",
            "0.9007\n",
            "0.9007\n",
            "0.9012\n",
            "0.9013\n",
            "0.9014\n",
            "0.9022\n",
            "0.9021\n",
            "0.9027\n",
            "0.9031\n",
            "0.9032\n",
            "0.9036\n",
            "0.9033\n",
            "0.9037\n",
            "0.9038\n",
            "0.904\n",
            "0.9038\n",
            "0.9036\n",
            "0.9037\n",
            "0.904\n",
            "0.9041\n",
            "0.9041\n",
            "0.9041\n",
            "0.9039\n",
            "0.904\n",
            "0.9036\n",
            "0.9041\n",
            "0.9045\n",
            "0.9049\n",
            "0.905\n",
            "0.9045\n",
            "0.9042\n",
            "0.9044\n",
            "0.9042\n",
            "0.9038\n",
            "0.9038\n",
            "0.9039\n",
            "0.9033\n",
            "0.9033\n",
            "0.9036\n",
            "0.9039\n",
            "0.9039\n",
            "0.9037\n",
            "0.9035\n",
            "0.9035\n",
            "0.9032\n",
            "0.903\n",
            "0.9027\n",
            "0.9025\n",
            "0.9024\n",
            "0.903\n",
            "0.9033\n",
            "0.9032\n",
            "0.9034\n",
            "0.9031\n",
            "0.9034\n",
            "0.9033\n",
            "0.9032\n",
            "0.9038\n",
            "0.9038\n",
            "0.9038\n",
            "0.9033\n",
            "0.9031\n",
            "0.903\n",
            "0.9033\n",
            "0.9032\n",
            "0.9029\n",
            "0.9031\n",
            "0.9035\n",
            "0.9028\n",
            "0.9035\n",
            "0.9039\n",
            "0.9042\n",
            "0.9036\n",
            "0.9034\n",
            "0.9032\n",
            "0.9028\n",
            "0.9027\n",
            "0.9029\n",
            "0.9028\n",
            "0.9031\n",
            "0.9034\n",
            "0.9038\n",
            "0.9039\n",
            "0.9039\n",
            "0.9037\n",
            "0.9037\n",
            "0.9042\n",
            "0.9044\n",
            "0.9043\n",
            "0.9039\n",
            "0.9041\n",
            "0.9044\n",
            "0.9044\n",
            "0.9046\n",
            "0.9046\n",
            "0.9055\n",
            "0.9058\n",
            "0.906\n",
            "0.9062\n",
            "0.9061\n",
            "0.9058\n",
            "0.9056\n",
            "0.9054\n",
            "0.9056\n",
            "0.9054\n",
            "0.9053\n",
            "0.906\n",
            "0.9062\n",
            "0.906\n",
            "0.9057\n",
            "0.9053\n",
            "0.9054\n",
            "0.9056\n",
            "0.906\n",
            "0.906\n",
            "0.9056\n",
            "0.9061\n",
            "0.906\n",
            "0.906\n",
            "0.9066\n",
            "0.9069\n",
            "0.907\n",
            "0.9069\n",
            "0.907\n",
            "0.907\n",
            "0.9069\n",
            "0.9068\n",
            "0.9072\n",
            "0.9074\n",
            "0.9074\n",
            "0.9075\n",
            "0.908\n",
            "0.9076\n",
            "0.9077\n",
            "0.9075\n",
            "0.9072\n",
            "0.9072\n",
            "0.9076\n",
            "0.9077\n",
            "0.9081\n",
            "0.9086\n",
            "0.9084\n",
            "0.9086\n",
            "0.9084\n",
            "0.908\n",
            "0.9082\n",
            "0.9082\n",
            "0.9086\n",
            "0.9086\n",
            "0.9088\n",
            "0.9087\n",
            "0.9089\n",
            "0.9086\n",
            "0.909\n",
            "0.9089\n",
            "0.9086\n",
            "0.9086\n",
            "0.9084\n",
            "0.9081\n",
            "0.9077\n",
            "0.9073\n",
            "0.9079\n",
            "0.908\n",
            "0.9074\n",
            "0.9075\n",
            "0.9074\n",
            "0.9076\n",
            "0.9077\n",
            "0.9075\n",
            "0.9076\n",
            "0.908\n",
            "0.9084\n",
            "0.9084\n",
            "0.9085\n",
            "0.9083\n",
            "0.9084\n",
            "0.9081\n",
            "0.9077\n",
            "0.9071\n",
            "0.9076\n",
            "0.908\n",
            "0.9083\n",
            "0.9081\n",
            "0.9081\n",
            "0.9084\n",
            "0.9088\n",
            "0.9089\n",
            "0.9088\n",
            "0.9084\n",
            "0.9081\n",
            "0.9087\n",
            "0.9081\n",
            "0.9083\n",
            "0.9085\n",
            "0.9086\n",
            "0.9084\n",
            "0.9081\n",
            "0.9082\n",
            "0.9082\n",
            "0.9081\n",
            "0.9084\n",
            "0.9084\n",
            "0.9091\n",
            "0.9089\n",
            "0.9089\n",
            "0.9092\n",
            "0.909\n",
            "0.9087\n",
            "0.9086\n",
            "0.9093\n",
            "0.909\n",
            "0.9097\n",
            "0.9098\n",
            "0.9098\n",
            "0.91\n",
            "0.9098\n",
            "0.9096\n",
            "0.9097\n",
            "0.9097\n",
            "0.9097\n",
            "0.9098\n",
            "0.9095\n",
            "0.9097\n",
            "0.9099\n",
            "0.9097\n",
            "0.9097\n",
            "0.9102\n",
            "0.9099\n",
            "0.9103\n",
            "0.9107\n",
            "0.9111\n",
            "0.9112\n",
            "0.9107\n",
            "0.9104\n",
            "0.9106\n",
            "0.9103\n",
            "0.9105\n",
            "0.9109\n",
            "0.9114\n",
            "0.9112\n",
            "0.9112\n",
            "0.9113\n",
            "0.9119\n",
            "0.9112\n",
            "0.9114\n",
            "0.9115\n",
            "0.9114\n",
            "0.9115\n",
            "0.9119\n",
            "0.9119\n",
            "0.912\n",
            "0.9116\n",
            "0.9112\n",
            "0.9111\n",
            "0.9113\n",
            "0.911\n",
            "0.9114\n",
            "0.9116\n",
            "0.9116\n",
            "0.9116\n",
            "0.9111\n",
            "0.9113\n",
            "0.9111\n",
            "0.9113\n",
            "0.911\n",
            "0.9111\n",
            "0.911\n",
            "0.9106\n",
            "0.9108\n",
            "0.9105\n",
            "0.9113\n",
            "0.9111\n",
            "0.9119\n",
            "0.9114\n",
            "0.9111\n",
            "0.9111\n",
            "0.911\n",
            "0.9108\n",
            "0.9108\n",
            "0.9107\n",
            "0.9106\n",
            "0.9105\n",
            "0.9102\n",
            "0.9104\n",
            "0.9107\n",
            "0.9105\n",
            "0.91\n",
            "0.9102\n",
            "0.9105\n",
            "0.9103\n",
            "0.9101\n",
            "0.9102\n",
            "0.9104\n",
            "0.9102\n",
            "0.91\n",
            "0.9101\n",
            "0.9104\n",
            "0.9101\n",
            "0.9101\n",
            "0.9092\n",
            "0.9095\n",
            "0.9099\n",
            "0.91\n",
            "0.9102\n",
            "0.9105\n",
            "0.9109\n",
            "0.9107\n",
            "0.9113\n",
            "0.9109\n",
            "0.9111\n",
            "0.9117\n",
            "0.912\n",
            "0.9122\n",
            "0.9123\n",
            "0.9123\n",
            "0.9123\n",
            "0.9122\n",
            "0.9122\n",
            "0.912\n",
            "0.9121\n",
            "0.9121\n",
            "0.9119\n",
            "0.9114\n",
            "0.9115\n",
            "0.9118\n",
            "0.9116\n",
            "0.9118\n",
            "0.9117\n",
            "0.9113\n",
            "0.911\n",
            "0.9111\n",
            "0.9109\n",
            "0.9114\n",
            "0.9112\n",
            "0.911\n",
            "0.9111\n",
            "0.9109\n",
            "0.9105\n",
            "0.9103\n",
            "0.9105\n",
            "0.9107\n",
            "0.9109\n",
            "0.9106\n",
            "0.9109\n",
            "0.9108\n",
            "0.9106\n",
            "0.9109\n",
            "0.9107\n",
            "0.9106\n",
            "0.9107\n",
            "0.9112\n",
            "0.9119\n",
            "0.9123\n",
            "0.9118\n",
            "0.9122\n",
            "0.9123\n",
            "0.9128\n",
            "0.913\n",
            "0.9131\n",
            "0.9128\n"
          ],
          "name": "stdout"
        }
      ]
    },
    {
      "cell_type": "code",
      "metadata": {
        "id": "sL5dITRzpC8l",
        "colab_type": "code",
        "colab": {}
      },
      "source": [
        ""
      ],
      "execution_count": 0,
      "outputs": []
    }
  ]
}