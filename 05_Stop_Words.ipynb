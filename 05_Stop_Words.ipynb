{
  "nbformat": 4,
  "nbformat_minor": 0,
  "metadata": {
    "kernelspec": {
      "display_name": "Python 3",
      "language": "python",
      "name": "python3"
    },
    "language_info": {
      "codemirror_mode": {
        "name": "ipython",
        "version": 3
      },
      "file_extension": ".py",
      "mimetype": "text/x-python",
      "name": "python",
      "nbconvert_exporter": "python",
      "pygments_lexer": "ipython3",
      "version": "3.6.9"
    },
    "colab": {
      "name": "05_Stop_Words.ipynb",
      "provenance": [],
      "collapsed_sections": [],
      "include_colab_link": true
    }
  },
  "cells": [
    {
      "cell_type": "markdown",
      "metadata": {
        "id": "view-in-github",
        "colab_type": "text"
      },
      "source": [
        "<a href=\"https://colab.research.google.com/github/chitreshkr/AI-Workshop/blob/master/05_Stop_Words.ipynb\" target=\"_parent\"><img src=\"https://colab.research.google.com/assets/colab-badge.svg\" alt=\"Open In Colab\"/></a>"
      ]
    },
    {
      "cell_type": "markdown",
      "metadata": {
        "id": "a1LZJFBcUEtX",
        "colab_type": "text"
      },
      "source": [
        "# Stop Words\n",
        "Words like \"a\" and \"the\" appear so frequently that they don't require tagging as thoroughly as nouns, verbs and modifiers. We call these *stop words*, and they can be filtered from the text to be processed. spaCy holds a built-in list of some 305 English stop words."
      ]
    },
    {
      "cell_type": "code",
      "metadata": {
        "id": "1wxcq3q5UEtb",
        "colab_type": "code",
        "colab": {}
      },
      "source": [
        "# Perform standard imports:\n",
        "import spacy\n",
        "nlp = spacy.load('en_core_web_sm')"
      ],
      "execution_count": 0,
      "outputs": []
    },
    {
      "cell_type": "code",
      "metadata": {
        "id": "wiSWuhRIUEtg",
        "colab_type": "code",
        "outputId": "19688b33-2406-4155-dc27-7b8cb3f91e65",
        "colab": {
          "base_uri": "https://localhost:8080/",
          "height": 54
        }
      },
      "source": [
        "# Print the set of spaCy's default stop words (remember that sets are unordered):\n",
        "print(nlp.Defaults.stop_words)"
      ],
      "execution_count": 2,
      "outputs": [
        {
          "output_type": "stream",
          "text": [
            "{'three', 'until', 'beside', 'there', 'whom', '‘ll', 'keep', 'thereupon', 'because', 'bottom', 'nothing', 'his', 'through', 'her', 'still', 'call', 'however', 'latterly', 'becomes', 'me', 'much', 'except', 'should', 'themselves', 'throughout', 'neither', 'well', 'have', 'these', 'yet', 'namely', 'whereupon', 'am', 'at', 'be', 'whereby', 'more', 'cannot', 'over', 'them', 'than', \"'re\", 'herself', 'seems', 'serious', 'further', 'almost', 'and', 'again', 'become', 'will', '‘ve', 'were', '‘m', 'no', 're', 'the', 'about', 'an', 'formerly', 'you', 'ten', 'has', 'already', 'on', 'twelve', 'enough', 'wherever', 'without', 'its', 'sixty', 'via', 'always', 'amount', 'fifty', 'beforehand', 'below', 'did', 'make', 'of', 'hereupon', 'myself', 'per', 'everyone', 'across', 'perhaps', 'besides', 'since', 'whether', 'against', 'which', 'none', '’s', 'yourselves', 'after', 'such', 'when', 'mostly', 'anywhere', 'various', '‘s', 'seem', 'above', 'that', 'we', 'whatever', 'show', 'thereby', 'been', 'may', 'forty', 'towards', 'yourself', 'i', 'must', 'part', 'ever', 'ca', 'put', 'six', '‘re', '’d', 'n’t', 'any', 'as', 'otherwise', 'all', 'fifteen', 'take', 'whenever', 'rather', 'five', 'their', 'side', 'toward', 'into', 'among', 'became', 'everything', 'for', 'move', 'off', 'upon', 'what', 'wherein', 'with', '’m', 'him', 'beyond', 'a', 'down', 'made', 'ourselves', 'so', 'being', 'somewhere', 'she', 'too', 'whole', 'would', 'full', 'noone', 'onto', 'other', 'was', \"'ve\", 'can', 'now', 'or', 'both', 'say', 'several', 'could', 'nor', 'some', 'third', 'moreover', 'are', 'hereafter', 'anyhow', 'in', 'he', 'here', 'hundred', 'four', 'it', 'nobody', 'to', 'former', 'something', 'used', \"'ll\", 'how', 'indeed', 'anything', 'another', 'even', 'between', 'least', 'meanwhile', 'due', 'do', 'latter', 'give', 'they', 'two', '’ve', 'anyway', \"'d\", 'thereafter', 'n‘t', 'becoming', 'had', 'quite', 'eight', 'whereafter', 'else', 'not', 'although', 'once', 'please', 'next', 'twenty', 'us', 'top', 'often', 'thus', 'someone', 'each', 'hence', 'somehow', 'mine', 'thru', 'go', 'along', 'our', 'seeming', 'everywhere', 'around', 'only', 'whereas', 'first', 'your', 'doing', 'seemed', 'see', 'few', 'yours', 'alone', 'herein', 'every', 'just', 'thence', 'under', 'behind', 'hers', 'is', 'but', 'therein', \"'s\", 'within', 'afterwards', 'same', 'whither', 'last', 'nevertheless', 'others', 'really', 'unless', 'where', 'amongst', 'get', '‘d', '’re', 'sometime', 'this', 'never', 'those', '’ll', 'own', 'front', 'does', 'using', 'before', \"'m\", 'during', 'ours', 'many', 'if', 'why', 'by', 'together', 'whoever', 'one', 'whence', 'nowhere', 'back', 'from', 'though', 'whose', 'elsewhere', 'might', 'most', 'who', 'empty', 'hereby', 'while', 'either', 'eleven', 'less', 'up', 'anyone', 'therefore', 'regarding', 'my', 'sometimes', 'out', 'done', 'then', 'itself', 'nine', 'very', \"n't\", 'also', 'name', 'himself'}\n"
          ],
          "name": "stdout"
        }
      ]
    },
    {
      "cell_type": "code",
      "metadata": {
        "id": "Clt090b2UEtl",
        "colab_type": "code",
        "outputId": "cd5494dd-2cb9-4252-c9e3-513b84718585",
        "colab": {
          "base_uri": "https://localhost:8080/",
          "height": 34
        }
      },
      "source": [
        "len(nlp.Defaults.stop_words)"
      ],
      "execution_count": 3,
      "outputs": [
        {
          "output_type": "execute_result",
          "data": {
            "text/plain": [
              "326"
            ]
          },
          "metadata": {
            "tags": []
          },
          "execution_count": 3
        }
      ]
    },
    {
      "cell_type": "markdown",
      "metadata": {
        "id": "Gw0EldGQUEts",
        "colab_type": "text"
      },
      "source": [
        "## To see if a word is a stop word"
      ]
    },
    {
      "cell_type": "code",
      "metadata": {
        "id": "woLuoAvkUEtu",
        "colab_type": "code",
        "outputId": "47edb8dd-e186-4679-cbec-9679f2d572a1",
        "colab": {
          "base_uri": "https://localhost:8080/",
          "height": 34
        }
      },
      "source": [
        "nlp.vocab['myself'].is_stop"
      ],
      "execution_count": 4,
      "outputs": [
        {
          "output_type": "execute_result",
          "data": {
            "text/plain": [
              "True"
            ]
          },
          "metadata": {
            "tags": []
          },
          "execution_count": 4
        }
      ]
    },
    {
      "cell_type": "code",
      "metadata": {
        "id": "QQp0puC_UEty",
        "colab_type": "code",
        "outputId": "fc86589f-c63e-43e9-d596-54ca26f58930",
        "colab": {
          "base_uri": "https://localhost:8080/",
          "height": 34
        }
      },
      "source": [
        "nlp.vocab['mystery'].is_stop"
      ],
      "execution_count": 5,
      "outputs": [
        {
          "output_type": "execute_result",
          "data": {
            "text/plain": [
              "False"
            ]
          },
          "metadata": {
            "tags": []
          },
          "execution_count": 5
        }
      ]
    },
    {
      "cell_type": "markdown",
      "metadata": {
        "id": "QzWjPApOUEt2",
        "colab_type": "text"
      },
      "source": [
        "## To add a stop word\n",
        "There may be times when you wish to add a stop word to the default set. Perhaps you decide that `'btw'` (common shorthand for \"by the way\") should be considered a stop word."
      ]
    },
    {
      "cell_type": "code",
      "metadata": {
        "id": "qBlUaQbrUEt3",
        "colab_type": "code",
        "colab": {}
      },
      "source": [
        "# Add the word to the set of stop words. Use lowercase!\n",
        "\n",
        "nlp.Defaults.stop_words.add('btw')\n",
        "# Set the stop_word tag on the lexeme\n",
        "nlp.vocab['btw'].is_stop  = True"
      ],
      "execution_count": 0,
      "outputs": []
    },
    {
      "cell_type": "code",
      "metadata": {
        "id": "4hIPFRcnUEt9",
        "colab_type": "code",
        "outputId": "28aa060b-9d32-4e87-f252-b39f3a759ca6",
        "colab": {
          "base_uri": "https://localhost:8080/",
          "height": 34
        }
      },
      "source": [
        "len(nlp.Defaults.stop_words)"
      ],
      "execution_count": 8,
      "outputs": [
        {
          "output_type": "execute_result",
          "data": {
            "text/plain": [
              "327"
            ]
          },
          "metadata": {
            "tags": []
          },
          "execution_count": 8
        }
      ]
    },
    {
      "cell_type": "code",
      "metadata": {
        "id": "nPOC_byjUEuC",
        "colab_type": "code",
        "colab": {}
      },
      "source": [
        ""
      ],
      "execution_count": 0,
      "outputs": []
    },
    {
      "cell_type": "markdown",
      "metadata": {
        "id": "LG7Q4aLAUEuF",
        "colab_type": "text"
      },
      "source": [
        "<font color=green>When adding stop words, always use lowercase. Lexemes are converted to lowercase before being added to **vocab**.</font>"
      ]
    },
    {
      "cell_type": "markdown",
      "metadata": {
        "id": "OIbRG7CmUEuG",
        "colab_type": "text"
      },
      "source": [
        "## To remove a stop word\n",
        "Alternatively, you may decide that `'beyond'` should not be considered a stop word."
      ]
    },
    {
      "cell_type": "code",
      "metadata": {
        "id": "7CzpYBKgUEuH",
        "colab_type": "code",
        "colab": {}
      },
      "source": [
        "# Remove the word from the set of stop words\n",
        "nlp.Defaults.stop_words.remove('btw')\n",
        "\n",
        "# Remove the stop_word tag from the lexeme\n",
        "nlp.vocab['btw'].is_stop  = False"
      ],
      "execution_count": 0,
      "outputs": []
    },
    {
      "cell_type": "code",
      "metadata": {
        "id": "Au7gKUekUEuN",
        "colab_type": "code",
        "outputId": "a8d3aa0f-da3c-48be-dfd8-bf345ff80b23",
        "colab": {
          "base_uri": "https://localhost:8080/",
          "height": 34
        }
      },
      "source": [
        "len(nlp.Defaults.stop_words)"
      ],
      "execution_count": 12,
      "outputs": [
        {
          "output_type": "execute_result",
          "data": {
            "text/plain": [
              "325"
            ]
          },
          "metadata": {
            "tags": []
          },
          "execution_count": 12
        }
      ]
    },
    {
      "cell_type": "code",
      "metadata": {
        "id": "colhFpzzUEuR",
        "colab_type": "code",
        "colab": {}
      },
      "source": [
        ""
      ],
      "execution_count": 0,
      "outputs": []
    },
    {
      "cell_type": "markdown",
      "metadata": {
        "id": "HhPYd7U3UEuU",
        "colab_type": "text"
      },
      "source": [
        "Great! Now you should be able to access spaCy's default set of stop words, and add or remove stop words as needed.\n",
        "## Next up: Vocabulary and Matching"
      ]
    }
  ]
}